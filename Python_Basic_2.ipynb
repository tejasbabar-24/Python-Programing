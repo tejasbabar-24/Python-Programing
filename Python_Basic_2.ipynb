{
  "nbformat": 4,
  "nbformat_minor": 0,
  "metadata": {
    "colab": {
      "provenance": [],
      "authorship_tag": "ABX9TyMJr/IRUlYbR7/Hyy3iHvCE",
      "include_colab_link": true
    },
    "kernelspec": {
      "name": "python3",
      "display_name": "Python 3"
    },
    "language_info": {
      "name": "python"
    }
  },
  "cells": [
    {
      "cell_type": "markdown",
      "metadata": {
        "id": "view-in-github",
        "colab_type": "text"
      },
      "source": [
        "<a href=\"https://colab.research.google.com/github/tejasbabar-24/Python-Programing/blob/main/Python_Basic_2.ipynb\" target=\"_parent\"><img src=\"https://colab.research.google.com/assets/colab-badge.svg\" alt=\"Open In Colab\"/></a>"
      ]
    },
    {
      "cell_type": "markdown",
      "source": [
        "**List**\n",
        "a list is a collection of things, enclosed in [ ] and separated by commas."
      ],
      "metadata": {
        "id": "ZVgcy1mwdDPR"
      }
    },
    {
      "cell_type": "code",
      "source": [
        "a =  ['aliya','ranveer','kriti',21]\n",
        "\n",
        "print(a)"
      ],
      "metadata": {
        "colab": {
          "base_uri": "https://localhost:8080/"
        },
        "id": "yKl73sQ1dN1Z",
        "outputId": "3a0756f7-4427-46f7-9d70-8d99b7270d6d"
      },
      "execution_count": 1,
      "outputs": [
        {
          "output_type": "stream",
          "name": "stdout",
          "text": [
            "['aliya', 'ranveer', 'kriti', 21]\n"
          ]
        }
      ]
    },
    {
      "cell_type": "code",
      "source": [
        "list_1 =['suzuki','kia',['a','b',1],5,6,{},(10.5,6)]\n",
        "print(list_1)"
      ],
      "metadata": {
        "colab": {
          "base_uri": "https://localhost:8080/"
        },
        "id": "1732K4z8d2za",
        "outputId": "6f3457c8-4c6c-4d8d-fe28-d0f193dff2b2"
      },
      "execution_count": 2,
      "outputs": [
        {
          "output_type": "stream",
          "name": "stdout",
          "text": [
            "['suzuki', 'kia', ['a', 'b', 1], 5, 6, {}, (10.5, 6)]\n"
          ]
        }
      ]
    },
    {
      "cell_type": "markdown",
      "source": [
        "Key Characteristics:\n",
        "\n",
        "Ordered: Elements in a list are stored in a specific order, and their indices (starting from 0) are used to access them.\n",
        "Mutable: You can modify the elements of a list after it's created by adding, removing, or changing values.\n",
        "Heterogeneous: Lists can contain elements of different data types (e.g., integers, strings, floats, even other lists)."
      ],
      "metadata": {
        "id": "Yah2hSCeeKGO"
      }
    },
    {
      "cell_type": "markdown",
      "source": [
        "# **Accessing List Element**"
      ],
      "metadata": {
        "id": "NzXb6VQlexws"
      }
    },
    {
      "cell_type": "code",
      "source": [
        "#Accesing list Element\n",
        "\n",
        "l = ['a','v','c','d']\n",
        "#list index start from 0\n",
        "print(l[1])\n",
        "print(l[-2])\n",
        "print(l[-4])\n"
      ],
      "metadata": {
        "colab": {
          "base_uri": "https://localhost:8080/"
        },
        "id": "Iwsa28CheLeF",
        "outputId": "100dd176-231e-4422-8961-1559f9df5e0a"
      },
      "execution_count": 5,
      "outputs": [
        {
          "output_type": "stream",
          "name": "stdout",
          "text": [
            "v\n",
            "c\n",
            "a\n"
          ]
        }
      ]
    },
    {
      "cell_type": "code",
      "source": [
        "l[3]"
      ],
      "metadata": {
        "colab": {
          "base_uri": "https://localhost:8080/",
          "height": 35
        },
        "id": "_wpGmd_semzD",
        "outputId": "427e54b2-1694-4c32-eb60-ab751acf728e"
      },
      "execution_count": 6,
      "outputs": [
        {
          "output_type": "execute_result",
          "data": {
            "text/plain": [
              "'d'"
            ],
            "application/vnd.google.colaboratory.intrinsic+json": {
              "type": "string"
            }
          },
          "metadata": {},
          "execution_count": 6
        }
      ]
    },
    {
      "cell_type": "code",
      "source": [
        "l=['suzuki','kia','citron',['tata','mahindra'],10,[10.2,8]]\n",
        "\n",
        "print(l[3])\n",
        "print(l[3][1])\n",
        "print(l[5])\n",
        "print(l[5][1])\n",
        "print(l[-1][-1])"
      ],
      "metadata": {
        "colab": {
          "base_uri": "https://localhost:8080/"
        },
        "id": "ZQhUSjzTfr0j",
        "outputId": "03eb4b0e-28c0-4b06-a7c8-fa94e7df890a"
      },
      "execution_count": 14,
      "outputs": [
        {
          "output_type": "stream",
          "name": "stdout",
          "text": [
            "['tata', 'mahindra']\n",
            "mahindra\n",
            "[10.2, 8]\n",
            "8\n",
            "8\n"
          ]
        }
      ]
    },
    {
      "cell_type": "code",
      "source": [
        "l = [1,2,3,4,5,[6,7,8],9,10]\n",
        "l[5][2]"
      ],
      "metadata": {
        "colab": {
          "base_uri": "https://localhost:8080/"
        },
        "id": "SdG5qc0jg5Gb",
        "outputId": "54ba7f38-b1ba-4a75-850d-b7b38886e6c5"
      },
      "execution_count": 22,
      "outputs": [
        {
          "output_type": "execute_result",
          "data": {
            "text/plain": [
              "8"
            ]
          },
          "metadata": {},
          "execution_count": 22
        }
      ]
    },
    {
      "cell_type": "markdown",
      "source": [
        "**List slicing**\n",
        "\n"
      ],
      "metadata": {
        "id": "6OC_ayGpiE4D"
      }
    },
    {
      "cell_type": "code",
      "source": [
        "lst = ['suzuki','kia','citron','tata','mahindra']\n",
        "print(lst[:])\n",
        "print(lst[1:])\n",
        "print(lst[:3])\n",
        "print(lst[0:3])\n",
        "print(l[1:]4)"
      ],
      "metadata": {
        "colab": {
          "base_uri": "https://localhost:8080/"
        },
        "id": "xnFEs7pTiVNb",
        "outputId": "a75588b9-1c53-4f7a-96c0-b0c83874b845"
      },
      "execution_count": 28,
      "outputs": [
        {
          "output_type": "stream",
          "name": "stdout",
          "text": [
            "['suzuki', 'kia', 'citron', 'tata', 'mahindra']\n",
            "['kia', 'citron', 'tata', 'mahindra']\n",
            "['suzuki', 'kia', 'citron']\n",
            "['suzuki', 'kia', 'citron']\n"
          ]
        }
      ]
    },
    {
      "cell_type": "markdown",
      "source": [
        "**Extending Slicing**\n",
        "l[start:end:step] default step 1\n"
      ],
      "metadata": {
        "id": "HVPhVT2ZjnkO"
      }
    },
    {
      "cell_type": "code",
      "source": [
        "list_1 = ['suzuki','kia','citron','mahindra','tata']\n",
        "\n",
        "print(list_1[::-1])\n",
        "print(list_1[::2])\n",
        "print(list_1[::-2])\n"
      ],
      "metadata": {
        "colab": {
          "base_uri": "https://localhost:8080/"
        },
        "id": "uJIOZXe7jvc0",
        "outputId": "5429277a-d15c-4e2e-c754-d0f774fdf8ff"
      },
      "execution_count": 31,
      "outputs": [
        {
          "output_type": "stream",
          "name": "stdout",
          "text": [
            "['tata', 'mahindra', 'citron', 'kia', 'suzuki']\n",
            "['suzuki', 'citron', 'tata']\n",
            "['tata', 'citron', 'suzuki']\n"
          ]
        }
      ]
    },
    {
      "cell_type": "markdown",
      "source": [
        "**Modifying List**"
      ],
      "metadata": {
        "id": "bBfAmPK3lE32"
      }
    },
    {
      "cell_type": "code",
      "source": [
        "list_1 = ['suzuki','kia','citron','mahindra','tata']\n",
        "\n",
        "list_1[1] =   'huyndai'\n",
        "list_1"
      ],
      "metadata": {
        "colab": {
          "base_uri": "https://localhost:8080/"
        },
        "id": "9pOeqZTTlHoM",
        "outputId": "79fcd678-d835-4cb9-b8c8-8b6221ee9502"
      },
      "execution_count": 32,
      "outputs": [
        {
          "output_type": "execute_result",
          "data": {
            "text/plain": [
              "['suzuki', 'huyndai', 'citron', 'mahindra', 'tata']"
            ]
          },
          "metadata": {},
          "execution_count": 32
        }
      ]
    },
    {
      "cell_type": "code",
      "source": [
        "list_1[-1] = 10\n",
        "print(list_1)"
      ],
      "metadata": {
        "colab": {
          "base_uri": "https://localhost:8080/"
        },
        "id": "3LUjLGu2l7f_",
        "outputId": "1f33a29e-5cae-4790-c180-cb3c9d48610b"
      },
      "execution_count": 33,
      "outputs": [
        {
          "output_type": "stream",
          "name": "stdout",
          "text": [
            "['suzuki', 'huyndai', 'citron', 'mahindra', 10]\n"
          ]
        }
      ]
    },
    {
      "cell_type": "code",
      "source": [
        "fruit_list = ['banana','apple','guva','strawbery','dragonfruit','grapes']\n",
        "print(fruit_list)\n",
        "fruit_list.append('coffe')\n",
        "fruit_list.append('custer_apple')\n",
        "print(fruit_list)\n",
        "fruit_list.append([1,2])\n",
        "print(fruit_list)\n",
        "\n"
      ],
      "metadata": {
        "colab": {
          "base_uri": "https://localhost:8080/"
        },
        "id": "WgwFM3lEmK8h",
        "outputId": "6dd0dd11-a472-4833-af0b-c3cedd2c55f1"
      },
      "execution_count": 39,
      "outputs": [
        {
          "output_type": "stream",
          "name": "stdout",
          "text": [
            "['banana', 'apple', 'guva', 'strawbery', 'dragonfruit', 'grapes']\n",
            "['banana', 'apple', 'guva', 'strawbery', 'dragonfruit', 'grapes', 'coffe', 'custer_apple']\n",
            "['banana', 'apple', 'guva', 'strawbery', 'dragonfruit', 'grapes', 'coffe', 'custer_apple', [1, 2]]\n"
          ]
        }
      ]
    },
    {
      "cell_type": "code",
      "source": [
        "#Insert() -Adds an element at specified position\n",
        "fruit_list.insert(0,'pineapple')\n",
        "print(fruit_list)\n",
        "\n"
      ],
      "metadata": {
        "colab": {
          "base_uri": "https://localhost:8080/"
        },
        "id": "UOTO6FuTnGtv",
        "outputId": "0d182a9b-67bc-4761-f088-e387c1d2e663"
      },
      "execution_count": 43,
      "outputs": [
        {
          "output_type": "stream",
          "name": "stdout",
          "text": [
            "['pineapple', 'pineapple', 'pineapple', 'coconut', 'pineapple', 'coconut', 'banana', 'apple', 'guva', 'strawbery', 'dragonfruit', 'grapes', 'coffe', 'custer_apple', [1, 2]]\n"
          ]
        }
      ]
    },
    {
      "cell_type": "code",
      "source": [
        "fruit_list.insert(2,'coconut')\n",
        "print(fruit_list)"
      ],
      "metadata": {
        "colab": {
          "base_uri": "https://localhost:8080/"
        },
        "id": "JfciFseun7kh",
        "outputId": "fa771641-1577-4722-89d4-5742547b3ba2"
      },
      "execution_count": 44,
      "outputs": [
        {
          "output_type": "stream",
          "name": "stdout",
          "text": [
            "['pineapple', 'pineapple', 'coconut', 'pineapple', 'coconut', 'pineapple', 'coconut', 'banana', 'apple', 'guva', 'strawbery', 'dragonfruit', 'grapes', 'coffe', 'custer_apple', [1, 2]]\n"
          ]
        }
      ]
    },
    {
      "cell_type": "code",
      "source": [
        "fruit_list.extend([23,'starfriut'])\n",
        "fruit_list\n",
        "\n",
        "fruit_list.extend([1,2,3])\n",
        "print(fruit_list)"
      ],
      "metadata": {
        "colab": {
          "base_uri": "https://localhost:8080/"
        },
        "id": "Yu9r5XaFoRMS",
        "outputId": "62e8c846-da79-4d8c-eeff-584f98856e8b"
      },
      "execution_count": 47,
      "outputs": [
        {
          "output_type": "stream",
          "name": "stdout",
          "text": [
            "['pineapple', 'pineapple', 'coconut', 'pineapple', 'coconut', 'pineapple', 'coconut', 'banana', 'apple', 'guva', 'strawbery', 'dragonfruit', 'grapes', 'coffe', 'custer_apple', [1, 2], 23, 'starfriut', 23, 'starfriut', 1, 2, 3]\n"
          ]
        }
      ]
    },
    {
      "cell_type": "markdown",
      "source": [
        "**Removinf Elements**\n",
        "remove() the first occurance of a specified value."
      ],
      "metadata": {
        "id": "QAxQ8gj-pW8O"
      }
    },
    {
      "cell_type": "code",
      "source": [
        "  new_list=['pune',25,'nanded','chennai','hyderabad','nasik',25,'nanded','pune']\n",
        "\n",
        "  new_list.remove('pune')\n",
        "  print(new_list)\n",
        "  new_list.remove('nasik')\n",
        "  print(new_list)\n"
      ],
      "metadata": {
        "colab": {
          "base_uri": "https://localhost:8080/"
        },
        "id": "NvQj20GFpaDJ",
        "outputId": "8cf0885b-334d-46eb-d9dd-e5eb209ef7cb"
      },
      "execution_count": 50,
      "outputs": [
        {
          "output_type": "stream",
          "name": "stdout",
          "text": [
            "[25, 'nanded', 'chennai', 'hyderabad', 'nasik', 25, 'nanded', 'pune']\n",
            "[25, 'nanded', 'chennai', 'hyderabad', 25, 'nanded', 'pune']\n"
          ]
        }
      ]
    },
    {
      "cell_type": "code",
      "source": [
        "new_list.pop()  #pop():Removes and returns the element at aspecified index (default is the last item )\n",
        "print(new_list)\n",
        "new_list.pop(0)\n",
        "print(new_list)"
      ],
      "metadata": {
        "colab": {
          "base_uri": "https://localhost:8080/"
        },
        "id": "ajkPtnovqyf8",
        "outputId": "9802a840-bf63-461d-eb7a-c28b11a16a0b"
      },
      "execution_count": 53,
      "outputs": [
        {
          "output_type": "stream",
          "name": "stdout",
          "text": [
            "['nanded', 'chennai', 'hyderabad']\n",
            "['chennai', 'hyderabad']\n"
          ]
        }
      ]
    },
    {
      "cell_type": "code",
      "source": [
        "#del : deletes an element at specify index or a slice of the\n",
        "del new_list[0]\n",
        "print(new_list)"
      ],
      "metadata": {
        "id": "GwRSSViXs5XA"
      },
      "execution_count": null,
      "outputs": []
    },
    {
      "cell_type": "markdown",
      "source": [
        "**List Operation**"
      ],
      "metadata": {
        "id": "H3iR2TNns-xS"
      }
    },
    {
      "cell_type": "code",
      "source": [
        "  #concatenation\n",
        "\n",
        "  l =[1,2,3,4]\n",
        "  l1 = [5,6,7,8]\n",
        "  l+l1\n",
        ""
      ],
      "metadata": {
        "colab": {
          "base_uri": "https://localhost:8080/"
        },
        "id": "D_CMdab-tEbh",
        "outputId": "a2b48735-7974-47c5-b725-981ac90afde5"
      },
      "execution_count": 63,
      "outputs": [
        {
          "output_type": "execute_result",
          "data": {
            "text/plain": [
              "[1, 2, 3, 4, 5, 6, 7, 8]"
            ]
          },
          "metadata": {},
          "execution_count": 63
        }
      ]
    },
    {
      "cell_type": "code",
      "source": [
        "#Repetation\n",
        "l = [1,2,3,4,5]\n",
        "l*2"
      ],
      "metadata": {
        "colab": {
          "base_uri": "https://localhost:8080/"
        },
        "id": "S_cgfjG5tWnN",
        "outputId": "fc95e798-783f-4ff1-c671-bfce9cea4cf6"
      },
      "execution_count": 64,
      "outputs": [
        {
          "output_type": "execute_result",
          "data": {
            "text/plain": [
              "[1, 2, 3, 4, 5, 1, 2, 3, 4, 5]"
            ]
          },
          "metadata": {},
          "execution_count": 64
        }
      ]
    },
    {
      "cell_type": "code",
      "source": [
        "#membership test in not in\n",
        "\n",
        "l = [1,2,3,4,5]\n",
        "3 in l\n"
      ],
      "metadata": {
        "colab": {
          "base_uri": "https://localhost:8080/"
        },
        "id": "Jpmcz9nxtga7",
        "outputId": "c8b44be7-3fd9-4103-e207-b327cd3491a1"
      },
      "execution_count": 66,
      "outputs": [
        {
          "output_type": "execute_result",
          "data": {
            "text/plain": [
              "True"
            ]
          },
          "metadata": {},
          "execution_count": 66
        }
      ]
    },
    {
      "cell_type": "code",
      "source": [
        "56 not in l"
      ],
      "metadata": {
        "colab": {
          "base_uri": "https://localhost:8080/"
        },
        "id": "nFr8F4QDtsXJ",
        "outputId": "3ce3a95e-80d8-4982-d565-9b249e2c8298"
      },
      "execution_count": 67,
      "outputs": [
        {
          "output_type": "execute_result",
          "data": {
            "text/plain": [
              "True"
            ]
          },
          "metadata": {},
          "execution_count": 67
        }
      ]
    },
    {
      "cell_type": "code",
      "source": [
        "8 in l"
      ],
      "metadata": {
        "colab": {
          "base_uri": "https://localhost:8080/"
        },
        "id": "xrt463nQt1Bz",
        "outputId": "deca1e6f-f3a8-4a76-ca76-48584d0dcc3a"
      },
      "execution_count": 68,
      "outputs": [
        {
          "output_type": "execute_result",
          "data": {
            "text/plain": [
              "False"
            ]
          },
          "metadata": {},
          "execution_count": 68
        }
      ]
    },
    {
      "cell_type": "markdown",
      "source": [
        "**List Comprenshion**\n",
        "\n",
        "**Built In List function**"
      ],
      "metadata": {
        "id": "jEOyItW5uLOi"
      }
    },
    {
      "cell_type": "code",
      "source": [
        "#len() : returns number of items in list\n",
        "\n",
        "l = [1,2,3,4,5]\n",
        "print(len(l))"
      ],
      "metadata": {
        "colab": {
          "base_uri": "https://localhost:8080/"
        },
        "id": "ow3bIRT8uV73",
        "outputId": "4055900a-307b-4ab2-fc13-1a1ed2a7bc98"
      },
      "execution_count": 69,
      "outputs": [
        {
          "output_type": "stream",
          "name": "stdout",
          "text": [
            "5\n"
          ]
        }
      ]
    },
    {
      "cell_type": "code",
      "source": [
        "#Split\n",
        "# split()\n",
        "a='they take the bus to work'\n",
        "l=a.split(\" \")\n",
        "print(l)\n"
      ],
      "metadata": {
        "colab": {
          "base_uri": "https://localhost:8080/"
        },
        "id": "DpDj2oQ3uO3R",
        "outputId": "b9d494f8-5d47-4a48-f6cf-7c0613ffa194"
      },
      "execution_count": 72,
      "outputs": [
        {
          "output_type": "stream",
          "name": "stdout",
          "text": [
            "['they', 'take', 'the', 'bus', 'to', 'work']\n"
          ]
        }
      ]
    },
    {
      "cell_type": "code",
      "source": [
        "b = ' ' .join(l)\n",
        "print(b)"
      ],
      "metadata": {
        "colab": {
          "base_uri": "https://localhost:8080/"
        },
        "id": "rNLETFS6wEl7",
        "outputId": "45b8accc-6095-4dfe-f478-ad23e2e57a7c"
      },
      "execution_count": 73,
      "outputs": [
        {
          "output_type": "stream",
          "name": "stdout",
          "text": [
            "they take the bus to work\n"
          ]
        }
      ]
    },
    {
      "cell_type": "code",
      "source": [
        "l=['pune','nanded','chennai','hyderabad','nasik','nanded','pune']\n",
        "x = ' '.join(l)\n",
        "print(x)"
      ],
      "metadata": {
        "colab": {
          "base_uri": "https://localhost:8080/"
        },
        "id": "vwtZE4cqwSrA",
        "outputId": "85205d6f-25dd-4aa4-b51a-578d55ea029c"
      },
      "execution_count": 75,
      "outputs": [
        {
          "output_type": "stream",
          "name": "stdout",
          "text": [
            "pune nanded chennai hyderabad nasik nanded pune\n"
          ]
        }
      ]
    },
    {
      "cell_type": "code",
      "source": [
        "help(list)\n",
        "help(string)"
      ],
      "metadata": {
        "id": "Jv9k9tkPw55a"
      },
      "execution_count": null,
      "outputs": []
    },
    {
      "cell_type": "code",
      "source": [
        "# min() and max(): Returns the smallest and largest item in the list.\n",
        "list_new=[144,196,830, 28, 45, 49, 64, 81]\n",
        "\n",
        "minimum=min(list_new)\n",
        "maximum=max(list_new)\n",
        "print(f'minimum value of a list: {minimum}')\n",
        "print(f'maximum value of a list: {maximum}')"
      ],
      "metadata": {
        "colab": {
          "base_uri": "https://localhost:8080/"
        },
        "id": "h-_gu4jNw9gr",
        "outputId": "ab3ae189-cd2e-4d62-e319-41463fcaccfe"
      },
      "execution_count": 77,
      "outputs": [
        {
          "output_type": "stream",
          "name": "stdout",
          "text": [
            "minimum value of a list: 28\n",
            "maximum value of a list: 830\n"
          ]
        }
      ]
    },
    {
      "cell_type": "code",
      "source": [
        "list_new=[144,196,830, 28, 45, 49, 64, 81]\n",
        "total=sum(list_new)\n",
        "print(f'addition of all elements of a list: {total}')"
      ],
      "metadata": {
        "colab": {
          "base_uri": "https://localhost:8080/"
        },
        "id": "lNsUJ76_xkaA",
        "outputId": "e7f0d7fa-6396-43f8-8233-320d6219bcaf"
      },
      "execution_count": 78,
      "outputs": [
        {
          "output_type": "stream",
          "name": "stdout",
          "text": [
            "addition of all elements of a list: 1437\n"
          ]
        }
      ]
    },
    {
      "cell_type": "code",
      "source": [
        "# count\n",
        "a=[1,2,2,3,3,3,4,4,4,4,4]\n",
        "a.count(4)"
      ],
      "metadata": {
        "id": "PEAJTXNtybRJ"
      },
      "execution_count": null,
      "outputs": []
    },
    {
      "cell_type": "code",
      "source": [
        "# reverse(): Reverses the order of the list.\n",
        "b='We always eat dinner together'\n",
        "l=b.split(\" \")\n",
        "l.reverse()\n",
        "print(l)"
      ],
      "metadata": {
        "colab": {
          "base_uri": "https://localhost:8080/"
        },
        "id": "4ssPD8DI0VEp",
        "outputId": "182f5492-f0b4-4184-817e-7ab17d6702de"
      },
      "execution_count": 79,
      "outputs": [
        {
          "output_type": "stream",
          "name": "stdout",
          "text": [
            "['together', 'dinner', 'eat', 'always', 'We']\n"
          ]
        }
      ]
    },
    {
      "cell_type": "markdown",
      "source": [
        "**List UnPacking**"
      ],
      "metadata": {
        "id": "u3zmrsKP2OUW"
      }
    },
    {
      "cell_type": "code",
      "source": [
        "# Unpacking with * allows you to unpack multiple elements into a list.\n",
        "numbers=[1,2,3,4,5,6,7,8]\n",
        "a,*b,c=numbers\n",
        "print(a)\n",
        "print(b)\n",
        "print(c)"
      ],
      "metadata": {
        "colab": {
          "base_uri": "https://localhost:8080/"
        },
        "id": "mo_Epk3k2Rop",
        "outputId": "e7bfd679-0d0c-4219-a38f-dab06c620ab8"
      },
      "execution_count": 80,
      "outputs": [
        {
          "output_type": "stream",
          "name": "stdout",
          "text": [
            "1\n",
            "[2, 3, 4, 5, 6, 7]\n",
            "8\n"
          ]
        }
      ]
    },
    {
      "cell_type": "code",
      "source": [
        "# Ignoring Values You can use _ as a convention to ignore certain values during unpacking.\n",
        "\n",
        "numbers = [1, 2, 3, 4, 5]\n",
        "a, _, c, _, e = numbers\n",
        "print(a)\n",
        "print(c)\n",
        "print(e)"
      ],
      "metadata": {
        "colab": {
          "base_uri": "https://localhost:8080/"
        },
        "id": "QCa6UTxa3OQr",
        "outputId": "d19231d5-dcd2-4c3a-eccc-107194240d4a"
      },
      "execution_count": 81,
      "outputs": [
        {
          "output_type": "stream",
          "name": "stdout",
          "text": [
            "1\n",
            "3\n",
            "5\n"
          ]
        }
      ]
    }
  ]
}