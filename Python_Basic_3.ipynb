{
  "nbformat": 4,
  "nbformat_minor": 0,
  "metadata": {
    "colab": {
      "provenance": [],
      "authorship_tag": "ABX9TyNQY9aU2ToI2iYiTahNgtsL",
      "include_colab_link": true
    },
    "kernelspec": {
      "name": "python3",
      "display_name": "Python 3"
    },
    "language_info": {
      "name": "python"
    }
  },
  "cells": [
    {
      "cell_type": "markdown",
      "metadata": {
        "id": "view-in-github",
        "colab_type": "text"
      },
      "source": [
        "<a href=\"https://colab.research.google.com/github/tejasbabar-24/Python-Programing/blob/main/Python_Basic_3.ipynb\" target=\"_parent\"><img src=\"https://colab.research.google.com/assets/colab-badge.svg\" alt=\"Open In Colab\"/></a>"
      ]
    },
    {
      "cell_type": "code",
      "execution_count": 1,
      "metadata": {
        "colab": {
          "base_uri": "https://localhost:8080/"
        },
        "id": "G7W4ILq9hKS2",
        "outputId": "0820981c-12da-455f-9ee2-27767a619e21"
      },
      "outputs": [
        {
          "output_type": "stream",
          "name": "stdout",
          "text": [
            "Enter the number of which the user wants to print the multiplication table: 16\n",
            "The Multiplication Table of:  16\n",
            "16 x 1 = 16\n",
            "16 x 2 = 32\n",
            "16 x 3 = 48\n",
            "16 x 4 = 64\n",
            "16 x 5 = 80\n",
            "16 x 6 = 96\n",
            "16 x 7 = 112\n",
            "16 x 8 = 128\n",
            "16 x 9 = 144\n",
            "16 x 10 = 160\n"
          ]
        }
      ],
      "source": [
        "number = int(input (\"Enter the number of which the user wants to print the multiplication table: \"))\n",
        "# We are using \"for loop\" to iterate the multiplication 10 times\n",
        "print (\"The Multiplication Table of: \", number)\n",
        "for count in range(1, 11):\n",
        "   print (number, 'x', count, '=', number * count)"
      ]
    }
  ]
}