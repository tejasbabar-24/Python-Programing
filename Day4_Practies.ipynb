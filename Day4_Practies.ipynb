{
  "nbformat": 4,
  "nbformat_minor": 0,
  "metadata": {
    "colab": {
      "provenance": [],
      "authorship_tag": "ABX9TyO5X+JCLM2zL6taRV2Vb4cG",
      "include_colab_link": true
    },
    "kernelspec": {
      "name": "python3",
      "display_name": "Python 3"
    },
    "language_info": {
      "name": "python"
    }
  },
  "cells": [
    {
      "cell_type": "markdown",
      "metadata": {
        "id": "view-in-github",
        "colab_type": "text"
      },
      "source": [
        "<a href=\"https://colab.research.google.com/github/tejasbabar-24/Python-Programing/blob/main/Day4_Practies.ipynb\" target=\"_parent\"><img src=\"https://colab.research.google.com/assets/colab-badge.svg\" alt=\"Open In Colab\"/></a>"
      ]
    },
    {
      "cell_type": "markdown",
      "source": [
        "**Define a Function to find the maximum of three numbers**"
      ],
      "metadata": {
        "id": "6SQJ6oWfh5cD"
      }
    },
    {
      "cell_type": "code",
      "execution_count": null,
      "metadata": {
        "id": "dNJOasrhe_Yo",
        "colab": {
          "base_uri": "https://localhost:8080/"
        },
        "outputId": "9c252faf-9316-439d-f42a-7ec51239105c"
      },
      "outputs": [
        {
          "output_type": "stream",
          "name": "stdout",
          "text": [
            "Enter the first number: 2\n",
            "Enter the second number: 12\n",
            "Enter the third number: 100\n",
            "The maximum of three numbers 2, 12, 100 is 100\n"
          ]
        }
      ],
      "source": [
        "def max_of_three(a, b, c):\n",
        "    # Using shorthand if-else conditional expression to find maximum\n",
        "    max_num = a if a > b and a > c else b if b > a and b > c else c\n",
        "    return max_num\n",
        "\n",
        "# Take user input for three numbers\n",
        "num1_entered = input('Enter the first number: ')\n",
        "num2_entered = input('Enter the second number: ')\n",
        "num3_entered = input('Enter the third number: ')\n",
        "\n",
        "# Validate user input and convert the input to integers\n",
        "num1 = int(num1_entered) if num1_entered.isdigit() else None\n",
        "num2 = int(num2_entered) if num2_entered.isdigit() else None\n",
        "num3 = int(num3_entered) if num3_entered.isdigit() else None\n",
        "\n",
        "# Check if the user input is valid and then find the maximum of the three numbers\n",
        "if num1 is not None and num2 is not None and num3 is not None:\n",
        "    max_num = max_of_three(num1, num2, num3)\n",
        "    print(f\"The maximum of three numbers {num1}, {num2}, {num3} is {max_num}\")\n",
        "else:\n",
        "    print(f\"Invalid Input: num1 = {num1}, num2 = {num2}, num3 = {num3}. Please enter valid integer values.\")\n",
        "\n"
      ]
    },
    {
      "cell_type": "markdown",
      "source": [
        "**Prime Factor Function**"
      ],
      "metadata": {
        "id": "iazY456qvmWM"
      }
    },
    {
      "cell_type": "code",
      "source": [
        "def get_prime_factors(number):\n",
        "    # Initialize an empty list to store the prime factors\n",
        "    prime_factors = []\n",
        "\n",
        "    if not isinstance(number, int) or number < 2:\n",
        "        return prime_factors\n",
        "\n",
        "    # Step 3: Get prime factors of 2\n",
        "    while number % 2 == 0:\n",
        "        prime_factors.append(2)\n",
        "        number //= 2\n",
        "\n",
        "    if number == 1:\n",
        "        return prime_factors\n",
        "\n",
        "    start_range = 3\n",
        "    stop_range = 3 if number ** 0.5 < 3 else number ** 0.5\n",
        "    skip_range = 2\n",
        "\n",
        "    for prime_number in range(start_range, int(stop_range) + 1, skip_range):\n",
        "        while number % prime_number == 0:\n",
        "            prime_factors.append(prime_number)\n",
        "            number //= prime_number\n",
        "\n",
        "    if number > 2:\n",
        "        prime_factors.append(number)\n",
        "\n",
        "    return prime_factors\n",
        "\n",
        "print(f\"Prime factors of number 120 are {get_prime_factors(120)}\")\n"
      ],
      "metadata": {
        "colab": {
          "base_uri": "https://localhost:8080/"
        },
        "id": "DFWKe74Lvl7f",
        "outputId": "827d4fd8-c2cb-438c-8a18-90e2f6693584"
      },
      "execution_count": null,
      "outputs": [
        {
          "output_type": "stream",
          "name": "stdout",
          "text": [
            "Prime factors of number 120 are [2, 2, 2, 3, 5]\n"
          ]
        }
      ]
    },
    {
      "cell_type": "code",
      "source": [
        "#Prog 2 Prime Factor main Program\n",
        "\n",
        "#step 1 : Enter the number to get the prime factor\n",
        "number_entered = input('Enter a number > 1 to get the prime factors :')\n",
        "\n",
        "#step 2 : Checking if the number is entered is digit else setting none\n",
        "number = ((number_entered.isdecimal() or number_entered.isdigit()) and int(number_entered) or None)\n",
        "\n",
        "#step 3: Calling the prime factor function to get the all prime factor\n",
        "if number is not None and number>1:\n",
        "  print(f\"Prime factors of number {number } is {get_prime_factors(number)}\")\n",
        "else:\n",
        "  print(f\"Invalid Number {number_entered}. Please enter number > 1\")\n"
      ],
      "metadata": {
        "colab": {
          "base_uri": "https://localhost:8080/"
        },
        "id": "T2WaV5ti0g6m",
        "outputId": "0a5e9673-3c6b-4c5c-a8b8-af28b303c734"
      },
      "execution_count": null,
      "outputs": [
        {
          "output_type": "stream",
          "name": "stdout",
          "text": [
            "Enter a number > 1 to get the prime factors :98\n",
            "Prime factors of number 98 is [2, 7, 7]\n"
          ]
        }
      ]
    }
  ]
}