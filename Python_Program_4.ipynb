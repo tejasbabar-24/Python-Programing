{
  "nbformat": 4,
  "nbformat_minor": 0,
  "metadata": {
    "colab": {
      "provenance": [],
      "authorship_tag": "ABX9TyMgBQJ1JudKirtUcitDMDZc",
      "include_colab_link": true
    },
    "kernelspec": {
      "name": "python3",
      "display_name": "Python 3"
    },
    "language_info": {
      "name": "python"
    }
  },
  "cells": [
    {
      "cell_type": "markdown",
      "metadata": {
        "id": "view-in-github",
        "colab_type": "text"
      },
      "source": [
        "<a href=\"https://colab.research.google.com/github/tejasbabar-24/Python-Programing/blob/main/Python_Program_4.ipynb\" target=\"_parent\"><img src=\"https://colab.research.google.com/assets/colab-badge.svg\" alt=\"Open In Colab\"/></a>"
      ]
    },
    {
      "cell_type": "code",
      "execution_count": 1,
      "metadata": {
        "colab": {
          "base_uri": "https://localhost:8080/"
        },
        "id": "x7MY0SaxvbTC",
        "outputId": "30f77e80-f81e-47b6-82b6-8917c21e2685"
      },
      "outputs": [
        {
          "output_type": "execute_result",
          "data": {
            "text/plain": [
              "True"
            ]
          },
          "metadata": {},
          "execution_count": 1
        }
      ],
      "source": [
        "#isalpha returns true if string is alphabetical, False Otherwise\n",
        "name = 'tejas'\n",
        "name.isalpha()"
      ]
    },
    {
      "cell_type": "code",
      "source": [
        "#isalnum() -Returns tru if the string is alphanumeric string, false otherwise\n",
        "\n",
        "no = '76532778Ten'\n",
        "no.isalnum()"
      ],
      "metadata": {
        "colab": {
          "base_uri": "https://localhost:8080/"
        },
        "id": "BPNQMIXwv-vA",
        "outputId": "8467d216-2e4c-41f3-cf89-6729d09a0c75"
      },
      "execution_count": 2,
      "outputs": [
        {
          "output_type": "execute_result",
          "data": {
            "text/plain": [
              "True"
            ]
          },
          "metadata": {},
          "execution_count": 2
        }
      ]
    },
    {
      "cell_type": "code",
      "source": [
        "#endswith() return true if ends with the specifed suffix, falseotherwise\n",
        "\n",
        "num = 'seven'\n",
        "num.endswith('en')"
      ],
      "metadata": {
        "colab": {
          "base_uri": "https://localhost:8080/"
        },
        "id": "m51YdTlAwTj1",
        "outputId": "74fde321-da76-4da7-d111-52af2ee1fbc2"
      },
      "execution_count": 3,
      "outputs": [
        {
          "output_type": "execute_result",
          "data": {
            "text/plain": [
              "True"
            ]
          },
          "metadata": {},
          "execution_count": 3
        }
      ]
    },
    {
      "cell_type": "code",
      "source": [
        "#startswith() return true if S starts with the specified prefix, false otherwise\n",
        "num.startswith('se')"
      ],
      "metadata": {
        "colab": {
          "base_uri": "https://localhost:8080/"
        },
        "id": "ZTgaYgOrxZ4N",
        "outputId": "d9e0aaea-ca37-4dbd-fc39-e5a8a9df39f7"
      },
      "execution_count": 4,
      "outputs": [
        {
          "output_type": "execute_result",
          "data": {
            "text/plain": [
              "True"
            ]
          },
          "metadata": {},
          "execution_count": 4
        }
      ]
    },
    {
      "cell_type": "code",
      "source": [],
      "metadata": {
        "id": "brHbGRpRzBzM"
      },
      "execution_count": null,
      "outputs": []
    }
  ]
}