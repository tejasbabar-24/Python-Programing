{
  "nbformat": 4,
  "nbformat_minor": 0,
  "metadata": {
    "colab": {
      "provenance": [],
      "authorship_tag": "ABX9TyNZv4bb8iddZKiKt9B/aB1C",
      "include_colab_link": true
    },
    "kernelspec": {
      "name": "python3",
      "display_name": "Python 3"
    },
    "language_info": {
      "name": "python"
    }
  },
  "cells": [
    {
      "cell_type": "markdown",
      "metadata": {
        "id": "view-in-github",
        "colab_type": "text"
      },
      "source": [
        "<a href=\"https://colab.research.google.com/github/tejasbabar-24/Python-Programing/blob/main/Day3_Practice.ipynb\" target=\"_parent\"><img src=\"https://colab.research.google.com/assets/colab-badge.svg\" alt=\"Open In Colab\"/></a>"
      ]
    },
    {
      "cell_type": "code",
      "execution_count": 2,
      "metadata": {
        "id": "shnCqwCU3lij",
        "colab": {
          "base_uri": "https://localhost:8080/"
        },
        "outputId": "1c02c136-f869-49ff-99ab-ff4c80ccfdf8"
      },
      "outputs": [
        {
          "output_type": "stream",
          "name": "stdout",
          "text": [
            "Enter a year :2002\n",
            "The year 2002 is not a leap year\n"
          ]
        }
      ],
      "source": [
        "# PROG 1.1: Leap Year\n",
        "\n",
        "# Write Code Here\n",
        "#step 1: prompt to user to enter a year and assign to global variable year_input\n",
        "year_input = input('Enter a year :')\n",
        "\n",
        "if year_input.isdigit():\n",
        "    year = int(year_input)\n",
        "\n",
        "    if year >= 1582:\n",
        "        if (year % 100 == 0) and (year % 400 == 0):\n",
        "            print(f\"The year {year} is a leap year\")\n",
        "        elif (year % 4 == 0) and (year % 100 != 0):\n",
        "            print(f\"The year {year} is a leap year\")\n",
        "        else:\n",
        "            print(f\"The year {year} is not a leap year\")\n",
        "    else:\n",
        "        print(f\"The entered year {year} must be 1582 or later.\")\n",
        "else:\n",
        "    print(f\"Invalid year {year_input} entered. Please enter a valid year.\")"
      ]
    },
    {
      "cell_type": "code",
      "source": [
        "def check_leap_year(year_input):\n",
        "    # Step 1: Check if input is a digit\n",
        "    if not year_input.isdigit():\n",
        "        return f\"Invalid year {year_input} entered. Please enter a valid year.\"\n",
        "\n",
        "    # Step 2: Convert input to an integer and assign it to a local variable year\n",
        "    year = int(year_input)\n",
        "\n",
        "    # Step 3: Check if the year is at least 1582 which is the start of the Gregorian calendar\n",
        "    if year < 1582:\n",
        "        return f\"The entered year {year} must be 1582 or later.\"\n",
        "\n",
        "    # Step 4: Divide by 100 means century year (ending with 00)\n",
        "    # and century year divided by 400 is a leap year\n",
        "    if (year % 100 == 0) and (year % 400 == 0):\n",
        "        return f\"The year {year} is a leap year\"\n",
        "\n",
        "    # Step 5: Check if the year is divisible by 4 and not by 100\n",
        "    if (year % 4 == 0) and (year % 100 != 0):\n",
        "        return f\"The year {year} is a leap year\"\n",
        "\n",
        "    # Step 6: Not a leap year\n",
        "    return f\"The year {year} is not a leap year\"\n",
        "\n",
        "print(check_leap_year(input(\"Enter a year: \")))"
      ],
      "metadata": {
        "colab": {
          "base_uri": "https://localhost:8080/"
        },
        "id": "8hWebtowLXVN",
        "outputId": "6c4ed138-885b-4e21-941c-47076fa0ec03"
      },
      "execution_count": 4,
      "outputs": [
        {
          "output_type": "stream",
          "name": "stdout",
          "text": [
            "Enter a year: 2024\n",
            "The year 2024 is a leap year\n"
          ]
        }
      ]
    }
  ]
}