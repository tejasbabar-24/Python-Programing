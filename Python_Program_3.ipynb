{
  "nbformat": 4,
  "nbformat_minor": 0,
  "metadata": {
    "colab": {
      "provenance": [],
      "authorship_tag": "ABX9TyNeiYBFQb/9vq0CCmZZtP/5",
      "include_colab_link": true
    },
    "kernelspec": {
      "name": "python3",
      "display_name": "Python 3"
    },
    "language_info": {
      "name": "python"
    }
  },
  "cells": [
    {
      "cell_type": "markdown",
      "metadata": {
        "id": "view-in-github",
        "colab_type": "text"
      },
      "source": [
        "<a href=\"https://colab.research.google.com/github/tejasbabar-24/Python-Programing/blob/main/Python_Program_3.ipynb\" target=\"_parent\"><img src=\"https://colab.research.google.com/assets/colab-badge.svg\" alt=\"Open In Colab\"/></a>"
      ]
    },
    {
      "cell_type": "markdown",
      "source": [
        "**Tuple**\n",
        "\n",
        "Immutable sequences: Tuples are ordered collections of elements that cannot be modified once created. This makes them ideal for storing data that should remain constant.\n",
        "Defined by parentheses: Tuples are defined using parentheses (), enclosing the elements separated by commas.\n",
        "Heterogeneous elements: Tuples can contain elements of different data types, making them versatile for storing diverse information.\n",
        "Indexing and slicing: You can access elements in a tuple using indexing (starting from 0) and slicing (to extract subsets).\n",
        "Unpacking: Tuples can be unpacked into individual variables using a convenient syntax.\n",
        "Built-in functions: Python provides various built-in functions for working with tuples, such as len(), count(), index(), and sorted()."
      ],
      "metadata": {
        "id": "PNS4Dc5emxnq"
      }
    },
    {
      "cell_type": "code",
      "source": [
        "#createing tuple\n",
        "\n",
        "my_tuple = (1,2,3,4)\n",
        "print(my_tuple)"
      ],
      "metadata": {
        "colab": {
          "base_uri": "https://localhost:8080/"
        },
        "id": "IjlqG861m8zF",
        "outputId": "d4f4b968-198c-4f60-8c11-32b13620178e"
      },
      "execution_count": 1,
      "outputs": [
        {
          "output_type": "stream",
          "name": "stdout",
          "text": [
            "(1, 2, 3, 4)\n"
          ]
        }
      ]
    },
    {
      "cell_type": "code",
      "source": [
        "print(type(my_tuple))\n",
        "\n",
        "m = (1,)\n",
        "type(m)"
      ],
      "metadata": {
        "colab": {
          "base_uri": "https://localhost:8080/"
        },
        "id": "aJuvFB-jnovw",
        "outputId": "d66ee3d6-9a85-4a56-d27b-da3d39ca1dbf"
      },
      "execution_count": 3,
      "outputs": [
        {
          "output_type": "stream",
          "name": "stdout",
          "text": [
            "<class 'tuple'>\n"
          ]
        },
        {
          "output_type": "execute_result",
          "data": {
            "text/plain": [
              "tuple"
            ]
          },
          "metadata": {},
          "execution_count": 3
        }
      ]
    },
    {
      "cell_type": "code",
      "source": [
        "t = tuple('spam')\n",
        "print(t)"
      ],
      "metadata": {
        "colab": {
          "base_uri": "https://localhost:8080/"
        },
        "id": "LTORU-ntn1ri",
        "outputId": "4c58f45e-4ae2-4782-8ece-11f09a09dad4"
      },
      "execution_count": 4,
      "outputs": [
        {
          "output_type": "stream",
          "name": "stdout",
          "text": [
            "('s', 'p', 'a', 'm')\n"
          ]
        }
      ]
    },
    {
      "cell_type": "code",
      "source": [
        "#creating tuple with diffrent data types\n",
        "\n",
        "t = (2,'tejas',2.0)\n",
        "print(t)"
      ],
      "metadata": {
        "colab": {
          "base_uri": "https://localhost:8080/"
        },
        "id": "TJMG_E7QoCf5",
        "outputId": "f2743e95-dc77-4dae-c48d-dfa50ddff859"
      },
      "execution_count": 5,
      "outputs": [
        {
          "output_type": "stream",
          "name": "stdout",
          "text": [
            "(2, 'tejas', 2.0)\n"
          ]
        }
      ]
    },
    {
      "cell_type": "code",
      "source": [
        "#creating tuple without parentheses (using comma seprator)\n",
        "\n",
        "m =7,8,9\n",
        "print(m)"
      ],
      "metadata": {
        "colab": {
          "base_uri": "https://localhost:8080/"
        },
        "id": "hSKYxAmnoOzM",
        "outputId": "656f43ca-e9c2-4d19-c3ad-bae842940fdd"
      },
      "execution_count": 7,
      "outputs": [
        {
          "output_type": "stream",
          "name": "stdout",
          "text": [
            "(7, 8, 9)\n"
          ]
        }
      ]
    },
    {
      "cell_type": "code",
      "source": [
        "#Accessing Tuple element\n",
        "\n",
        "my_ex = (1,2,3,(4,5,6),7,8)\n",
        "print(my_ex)\n",
        "print(my_ex[0])\n",
        "print(my_ex[3][1])\n",
        "print()"
      ],
      "metadata": {
        "colab": {
          "base_uri": "https://localhost:8080/"
        },
        "id": "G6su5r3coygf",
        "outputId": "4e4f02d6-3456-4e55-ed2e-2a6ac260c454"
      },
      "execution_count": 12,
      "outputs": [
        {
          "output_type": "stream",
          "name": "stdout",
          "text": [
            "(1, 2, 3, (4, 5, 6), 7, 8)\n",
            "1\n",
            "5\n"
          ]
        }
      ]
    },
    {
      "cell_type": "code",
      "source": [
        "my_tuple =('a','b','c','d','e','f')\n",
        "my_tuple[3:]"
      ],
      "metadata": {
        "colab": {
          "base_uri": "https://localhost:8080/"
        },
        "id": "Rzw-JtjapTd5",
        "outputId": "5b446459-2b61-4ec7-a3d2-1687315f411c"
      },
      "execution_count": 13,
      "outputs": [
        {
          "output_type": "execute_result",
          "data": {
            "text/plain": [
              "('d', 'e', 'f')"
            ]
          },
          "metadata": {},
          "execution_count": 13
        }
      ]
    },
    {
      "cell_type": "code",
      "source": [
        "#Tuple Operation\n",
        "#Concatenation\n",
        "a = (1,2,4)\n",
        "b = (4,5,6)\n",
        "concat = a+b\n",
        "print(concat)"
      ],
      "metadata": {
        "colab": {
          "base_uri": "https://localhost:8080/"
        },
        "id": "jUIj-xGIpv-B",
        "outputId": "f2b8ce45-477d-457d-f7d6-815f4215c0d1"
      },
      "execution_count": 14,
      "outputs": [
        {
          "output_type": "stream",
          "name": "stdout",
          "text": [
            "(1, 2, 4, 4, 5, 6)\n"
          ]
        }
      ]
    },
    {
      "cell_type": "code",
      "source": [
        "#Repetation\n",
        "my_tuple =(1,2,3)\n",
        "repeat_tuple = my_tuple * 3\n",
        "print(repeat_tuple)"
      ],
      "metadata": {
        "colab": {
          "base_uri": "https://localhost:8080/"
        },
        "id": "JdZYg6Vuq6Dn",
        "outputId": "3a65d197-d383-417d-e4e4-80ff175594a4"
      },
      "execution_count": 15,
      "outputs": [
        {
          "output_type": "stream",
          "name": "stdout",
          "text": [
            "(1, 2, 3, 1, 2, 3, 1, 2, 3)\n"
          ]
        }
      ]
    },
    {
      "cell_type": "code",
      "source": [
        "#converting tuple to list\n",
        "\n",
        "T = ('cc','aa','bb','dd')\n",
        "l = list(T)\n",
        "T = tuple(l)\n",
        "print(T)"
      ],
      "metadata": {
        "colab": {
          "base_uri": "https://localhost:8080/"
        },
        "id": "P9_NV64ErU2-",
        "outputId": "f67eb9f6-4a03-4491-b53f-57b55bc11455"
      },
      "execution_count": 18,
      "outputs": [
        {
          "output_type": "stream",
          "name": "stdout",
          "text": [
            "('cc', 'aa', 'bb', 'dd')\n"
          ]
        }
      ]
    },
    {
      "cell_type": "code",
      "source": [
        "a = '234'\n",
        "type(a)\n",
        "b = int(input(a))\n",
        "print(type(b))"
      ],
      "metadata": {
        "colab": {
          "base_uri": "https://localhost:8080/"
        },
        "id": "LBSLfsDAruIH",
        "outputId": "31463082-41be-439b-a4d4-fc9d1727fae0"
      },
      "execution_count": 20,
      "outputs": [
        {
          "output_type": "stream",
          "name": "stdout",
          "text": [
            "2341\n",
            "<class 'int'>\n"
          ]
        }
      ]
    },
    {
      "cell_type": "code",
      "source": [
        "help(tuple)"
      ],
      "metadata": {
        "colab": {
          "base_uri": "https://localhost:8080/"
        },
        "id": "N83nbgFWr8lG",
        "outputId": "124d4dd5-bda2-4c88-be8d-33921ec5ef16"
      },
      "execution_count": 21,
      "outputs": [
        {
          "output_type": "stream",
          "name": "stdout",
          "text": [
            "Help on class tuple in module builtins:\n",
            "\n",
            "class tuple(object)\n",
            " |  tuple(iterable=(), /)\n",
            " |  \n",
            " |  Built-in immutable sequence.\n",
            " |  \n",
            " |  If no argument is given, the constructor returns an empty tuple.\n",
            " |  If iterable is specified the tuple is initialized from iterable's items.\n",
            " |  \n",
            " |  If the argument is a tuple, the return value is the same object.\n",
            " |  \n",
            " |  Built-in subclasses:\n",
            " |      asyncgen_hooks\n",
            " |      MonthDayNano\n",
            " |      UnraisableHookArgs\n",
            " |  \n",
            " |  Methods defined here:\n",
            " |  \n",
            " |  __add__(self, value, /)\n",
            " |      Return self+value.\n",
            " |  \n",
            " |  __contains__(self, key, /)\n",
            " |      Return key in self.\n",
            " |  \n",
            " |  __eq__(self, value, /)\n",
            " |      Return self==value.\n",
            " |  \n",
            " |  __ge__(self, value, /)\n",
            " |      Return self>=value.\n",
            " |  \n",
            " |  __getattribute__(self, name, /)\n",
            " |      Return getattr(self, name).\n",
            " |  \n",
            " |  __getitem__(self, key, /)\n",
            " |      Return self[key].\n",
            " |  \n",
            " |  __getnewargs__(self, /)\n",
            " |  \n",
            " |  __gt__(self, value, /)\n",
            " |      Return self>value.\n",
            " |  \n",
            " |  __hash__(self, /)\n",
            " |      Return hash(self).\n",
            " |  \n",
            " |  __iter__(self, /)\n",
            " |      Implement iter(self).\n",
            " |  \n",
            " |  __le__(self, value, /)\n",
            " |      Return self<=value.\n",
            " |  \n",
            " |  __len__(self, /)\n",
            " |      Return len(self).\n",
            " |  \n",
            " |  __lt__(self, value, /)\n",
            " |      Return self<value.\n",
            " |  \n",
            " |  __mul__(self, value, /)\n",
            " |      Return self*value.\n",
            " |  \n",
            " |  __ne__(self, value, /)\n",
            " |      Return self!=value.\n",
            " |  \n",
            " |  __repr__(self, /)\n",
            " |      Return repr(self).\n",
            " |  \n",
            " |  __rmul__(self, value, /)\n",
            " |      Return value*self.\n",
            " |  \n",
            " |  count(self, value, /)\n",
            " |      Return number of occurrences of value.\n",
            " |  \n",
            " |  index(self, value, start=0, stop=9223372036854775807, /)\n",
            " |      Return first index of value.\n",
            " |      \n",
            " |      Raises ValueError if the value is not present.\n",
            " |  \n",
            " |  ----------------------------------------------------------------------\n",
            " |  Class methods defined here:\n",
            " |  \n",
            " |  __class_getitem__(...) from builtins.type\n",
            " |      See PEP 585\n",
            " |  \n",
            " |  ----------------------------------------------------------------------\n",
            " |  Static methods defined here:\n",
            " |  \n",
            " |  __new__(*args, **kwargs) from builtins.type\n",
            " |      Create and return a new object.  See help(type) for accurate signature.\n",
            "\n"
          ]
        }
      ]
    },
    {
      "cell_type": "code",
      "source": [
        "#Tuple Count\n",
        "my_tuple=(1,2,34,4,2)\n",
        "print(my_tuple.count(2))"
      ],
      "metadata": {
        "colab": {
          "base_uri": "https://localhost:8080/"
        },
        "id": "gSw-HZrLslO_",
        "outputId": "f82b2419-bdb9-4f7d-a9b8-982630e5f10c"
      },
      "execution_count": 22,
      "outputs": [
        {
          "output_type": "stream",
          "name": "stdout",
          "text": [
            "2\n"
          ]
        }
      ]
    },
    {
      "cell_type": "code",
      "source": [
        "names = ['rames','umesh','suresh','geeta',]\n",
        "names.insert(3,'seeta')\n",
        "print(names)\n"
      ],
      "metadata": {
        "colab": {
          "base_uri": "https://localhost:8080/"
        },
        "id": "KIlmzjbmtVQ3",
        "outputId": "ebdf0326-2747-49d7-f91d-c17694888486"
      },
      "execution_count": 26,
      "outputs": [
        {
          "output_type": "stream",
          "name": "stdout",
          "text": [
            "['rames', 'umesh', 'suresh', 'seeta', 'geeta']\n"
          ]
        }
      ]
    },
    {
      "cell_type": "code",
      "source": [
        "# create a list with names 'ramesh','umesh','suresh','geeta' and insert seeta in between suresh and geeta\n",
        "l=['ramesh','umesh','suresh','geeta']\n",
        "l.insert(3,'seeta')\n",
        "print(l)\n",
        "l=['ramesh','umesh','suresh','geeta']\n",
        "l[0:3]+['seeta']+l[3:]"
      ],
      "metadata": {
        "id": "5Z3o3ybHu-9T"
      },
      "execution_count": null,
      "outputs": []
    },
    {
      "cell_type": "code",
      "source": [
        "# Convert the list_1=['radha','aditya','shravani'] to uppercase letters\n",
        "list_1=['radha','aditya','shravani']\n",
        "b=\" \".join(list_1).upper()\n",
        "list_new=b.split(\" \")\n",
        "print(list_new)"
      ],
      "metadata": {
        "colab": {
          "base_uri": "https://localhost:8080/"
        },
        "id": "Uzoric4ruaKv",
        "outputId": "103fb167-d5ed-4d7f-9ba7-085ed092cfad"
      },
      "execution_count": 31,
      "outputs": [
        {
          "output_type": "stream",
          "name": "stdout",
          "text": [
            "['RADHA', 'ADITYA', 'SHRAVANI']\n"
          ]
        }
      ]
    },
    {
      "cell_type": "markdown",
      "source": [
        "**Dictionaries**"
      ],
      "metadata": {
        "id": "MihkjEDKwuzj"
      }
    },
    {
      "cell_type": "markdown",
      "source": [
        "A dictionary in Python is a collection of key-value pairs. Each key is unique, and it points to a corresponding value. You can think of it like a real-life dictionary where words (keys) are associated with their definitions (values)"
      ],
      "metadata": {
        "id": "OvuMcWrZxCRT"
      }
    },
    {
      "cell_type": "code",
      "source": [
        "#creating dictionary with {}\n",
        "my_dictionary = {\n",
        "    \"name\": \"Alice\",\n",
        "    \"age\": 30,\n",
        "    \"city\": \"New York\"\n",
        "}\n",
        "print(my_dictionary)"
      ],
      "metadata": {
        "colab": {
          "base_uri": "https://localhost:8080/"
        },
        "id": "QMNPeflAwt2M",
        "outputId": "6234bc1b-a392-4ace-9f58-b5fb047029a3"
      },
      "execution_count": 33,
      "outputs": [
        {
          "output_type": "stream",
          "name": "stdout",
          "text": [
            "{'name': 'Alice', 'age': 30, 'city': 'New York'}\n"
          ]
        }
      ]
    },
    {
      "cell_type": "code",
      "source": [
        "#student dictionar\n",
        "stude  = {\n",
        "    \"name\" : \"tejas\",\n",
        "     \"class\" : \"M.sc CS\",\n",
        "     \"subject\" :['java','dot net']\n",
        "    }\n",
        "print(stude)"
      ],
      "metadata": {
        "colab": {
          "base_uri": "https://localhost:8080/"
        },
        "id": "dWIZMdSJyXQ8",
        "outputId": "bee31d79-3ac9-4852-8ab0-076a73444b40"
      },
      "execution_count": 35,
      "outputs": [
        {
          "output_type": "stream",
          "name": "stdout",
          "text": [
            "{'name': 'tejas', 'class': 'M.sc CS', 'subject': ['java', 'dot net']}\n"
          ]
        }
      ]
    },
    {
      "cell_type": "code",
      "source": [
        "#Creating dictionary with dict constructor\n",
        "\n",
        "student = dict(name='radha',age=12,course=['c','cpp'])\n",
        "print(student)"
      ],
      "metadata": {
        "colab": {
          "base_uri": "https://localhost:8080/"
        },
        "id": "brqhrZiVzJVM",
        "outputId": "6e51d973-1998-4e91-88fe-81d55bc1ca36"
      },
      "execution_count": 36,
      "outputs": [
        {
          "output_type": "stream",
          "name": "stdout",
          "text": [
            "{'name': 'radha', 'age': 12, 'course': ['c', 'cpp']}\n"
          ]
        }
      ]
    },
    {
      "cell_type": "code",
      "source": [
        "#dictionary keys must be of an immutable data type like strings, numbers, or tuples.\n",
        "student={'name':'Radha',\n",
        "        'age':12,\n",
        "        'courses':['math','science'],\n",
        "         1:'hi',\n",
        "         (2,3):'hello'\n",
        "        }\n",
        "print(student)"
      ],
      "metadata": {
        "colab": {
          "base_uri": "https://localhost:8080/"
        },
        "id": "hynaVUGo0Vib",
        "outputId": "0a74109c-e390-4f75-c5a8-a64de12558d9"
      },
      "execution_count": 37,
      "outputs": [
        {
          "output_type": "stream",
          "name": "stdout",
          "text": [
            "{'name': 'Radha', 'age': 12, 'courses': ['math', 'science'], 1: 'hi', (2, 3): 'hello'}\n"
          ]
        }
      ]
    },
    {
      "cell_type": "markdown",
      "source": [
        "*Accessing Elment in Dictonary*"
      ],
      "metadata": {
        "id": "pmdY_lpN06ej"
      }
    },
    {
      "cell_type": "code",
      "source": [
        "print(student['age'])\n",
        "print(student['courses'])"
      ],
      "metadata": {
        "colab": {
          "base_uri": "https://localhost:8080/"
        },
        "id": "QU6KaI8206Bf",
        "outputId": "b1f99a33-83f2-494c-c90e-25a0c48a3ab4"
      },
      "execution_count": 39,
      "outputs": [
        {
          "output_type": "stream",
          "name": "stdout",
          "text": [
            "12\n",
            "['math', 'science']\n"
          ]
        }
      ]
    },
    {
      "cell_type": "code",
      "source": [
        "print(student['school'])"
      ],
      "metadata": {
        "colab": {
          "base_uri": "https://localhost:8080/",
          "height": 141
        },
        "id": "5TQjPr4d1SBz",
        "outputId": "66d981fe-632c-46a5-f0e7-3ac58bdc15e5"
      },
      "execution_count": 40,
      "outputs": [
        {
          "output_type": "error",
          "ename": "KeyError",
          "evalue": "'school'",
          "traceback": [
            "\u001b[0;31m---------------------------------------------------------------------------\u001b[0m",
            "\u001b[0;31mKeyError\u001b[0m                                  Traceback (most recent call last)",
            "\u001b[0;32m<ipython-input-40-9444823db2c5>\u001b[0m in \u001b[0;36m<cell line: 1>\u001b[0;34m()\u001b[0m\n\u001b[0;32m----> 1\u001b[0;31m \u001b[0mprint\u001b[0m\u001b[0;34m(\u001b[0m\u001b[0mstudent\u001b[0m\u001b[0;34m[\u001b[0m\u001b[0;34m'school'\u001b[0m\u001b[0;34m]\u001b[0m\u001b[0;34m)\u001b[0m\u001b[0;34m\u001b[0m\u001b[0;34m\u001b[0m\u001b[0m\n\u001b[0m",
            "\u001b[0;31mKeyError\u001b[0m: 'school'"
          ]
        }
      ]
    },
    {
      "cell_type": "code",
      "source": [
        "student.get('name','key not present')"
      ],
      "metadata": {
        "colab": {
          "base_uri": "https://localhost:8080/",
          "height": 35
        },
        "id": "U_C46HEp221s",
        "outputId": "90914be9-be8d-4644-c027-e51b595f806d"
      },
      "execution_count": 43,
      "outputs": [
        {
          "output_type": "execute_result",
          "data": {
            "text/plain": [
              "'Radha'"
            ],
            "application/vnd.google.colaboratory.intrinsic+json": {
              "type": "string"
            }
          },
          "metadata": {},
          "execution_count": 43
        }
      ]
    },
    {
      "cell_type": "code",
      "source": [
        "student.get('school')"
      ],
      "metadata": {
        "id": "YKB40UKh3BhP"
      },
      "execution_count": 44,
      "outputs": []
    },
    {
      "cell_type": "code",
      "source": [
        "student.get('school','key not present')"
      ],
      "metadata": {
        "colab": {
          "base_uri": "https://localhost:8080/",
          "height": 35
        },
        "id": "kuO0jaK21WTr",
        "outputId": "b71a00b2-4319-4443-8afc-d299400b3286"
      },
      "execution_count": 41,
      "outputs": [
        {
          "output_type": "execute_result",
          "data": {
            "text/plain": [
              "'key not present'"
            ],
            "application/vnd.google.colaboratory.intrinsic+json": {
              "type": "string"
            }
          },
          "metadata": {},
          "execution_count": 41
        }
      ]
    },
    {
      "cell_type": "markdown",
      "source": [
        "**Modifying Element**"
      ],
      "metadata": {
        "id": "x_rX_ahY3GSI"
      }
    },
    {
      "cell_type": "code",
      "source": [
        "{'key': 'values', 'name': 'Pooja', 'age': 12, 'courses': ['Math', 'Science'], 'school': 'Vidyamandir'}"
      ],
      "metadata": {
        "colab": {
          "base_uri": "https://localhost:8080/"
        },
        "id": "Ew1O4tj43I62",
        "outputId": "b1d5fcbf-da24-490e-a22b-fc7b607259a5"
      },
      "execution_count": 45,
      "outputs": [
        {
          "output_type": "execute_result",
          "data": {
            "text/plain": [
              "{'key': 'values',\n",
              " 'name': 'Pooja',\n",
              " 'age': 12,\n",
              " 'courses': ['Math', 'Science'],\n",
              " 'school': 'Vidyamandir'}"
            ]
          },
          "metadata": {},
          "execution_count": 45
        }
      ]
    },
    {
      "cell_type": "code",
      "source": [
        "print(student.keys())\n",
        "print(student.values())\n",
        "print(student.items())\n",
        "\n",
        "student = {\n",
        "    'key': 'values',\n",
        "    'name': 'Radha',\n",
        "    'name': 'Radha',\n",
        "    'age': 9,\n",
        "    'courses': ['Math', 'Science']\n",
        "}\n",
        "student.update({'std':'fourth','score':90})\n",
        "print(student)\n",
        "new_details={'std':'fourth','score':90}\n",
        "student.update(new_details)\n",
        "print(student)"
      ],
      "metadata": {
        "colab": {
          "base_uri": "https://localhost:8080/"
        },
        "id": "PWL7Uovs9wqG",
        "outputId": "b342f1ab-943a-4578-b5d3-da49f5093fbb"
      },
      "execution_count": 47,
      "outputs": [
        {
          "output_type": "stream",
          "name": "stdout",
          "text": [
            "dict_keys(['name', 'age', 'courses', 1, (2, 3)])\n",
            "dict_values(['Radha', 12, ['math', 'science'], 'hi', 'hello'])\n",
            "dict_items([('name', 'Radha'), ('age', 12), ('courses', ['math', 'science']), (1, 'hi'), ((2, 3), 'hello')])\n",
            "{'key': 'values', 'name': 'Radha', 'age': 9, 'courses': ['Math', 'Science'], 'std': 'fourth', 'score': 90}\n",
            "{'key': 'values', 'name': 'Radha', 'age': 9, 'courses': ['Math', 'Science'], 'std': 'fourth', 'score': 90}\n"
          ]
        }
      ]
    },
    {
      "cell_type": "code",
      "source": [
        "#creating dictionary from two list\n",
        "\n",
        "l_1=['a','b','c','d']\n",
        "l_2=[1,2,3,4]\n",
        "new_dict=dict(zip(l_1,l_2))\n",
        "print(new_dict)"
      ],
      "metadata": {
        "colab": {
          "base_uri": "https://localhost:8080/"
        },
        "id": "_FQ3Td6x-R6t",
        "outputId": "a288e073-6f07-4c89-ab61-92a18a17499a"
      },
      "execution_count": 48,
      "outputs": [
        {
          "output_type": "stream",
          "name": "stdout",
          "text": [
            "{'a': 1, 'b': 2, 'c': 3, 'd': 4}\n"
          ]
        }
      ]
    },
    {
      "cell_type": "code",
      "source": [
        "\n",
        "#fromkeys\n",
        "#create a new dictionary with keys from itertable\n",
        "D=dict.fromkeys(['a','b','c'],5)\n",
        "D"
      ],
      "metadata": {
        "colab": {
          "base_uri": "https://localhost:8080/"
        },
        "id": "gM2RCPyo-vCQ",
        "outputId": "27107934-d13c-4aea-a929-652ddd6548d0"
      },
      "execution_count": 49,
      "outputs": [
        {
          "output_type": "execute_result",
          "data": {
            "text/plain": [
              "{'a': 5, 'b': 5, 'c': 5}"
            ]
          },
          "metadata": {},
          "execution_count": 49
        }
      ]
    },
    {
      "cell_type": "markdown",
      "source": [
        "A nested dictionary in Python is a dictionary that contains other dictionaries as its values. This allows you to create complex data structures where you can organize information hierarchically."
      ],
      "metadata": {
        "id": "jhECGbza_LXD"
      }
    },
    {
      "cell_type": "code",
      "source": [
        "#Nested Dictionary\n",
        "person = {\n",
        "    \"name\": \"Alice\",\n",
        "    \"age\": 30,\n",
        "    \"address\": {\n",
        "        \"street\": \"123 Main St\",\n",
        "        \"city\": \"New York\",\n",
        "        \"state\": \"NY\",\n",
        "        \"zip\": \"10001\"\n",
        "    },\n",
        "    \"hobbies\": [\"reading\", \"painting\", \"hiking\"]\n",
        "}\n",
        "print(person)"
      ],
      "metadata": {
        "colab": {
          "base_uri": "https://localhost:8080/"
        },
        "id": "9WOz-Pkg-34N",
        "outputId": "71361950-2af6-4b51-ac4b-a519c6a408fc"
      },
      "execution_count": 50,
      "outputs": [
        {
          "output_type": "stream",
          "name": "stdout",
          "text": [
            "{'name': 'Alice', 'age': 30, 'address': {'street': '123 Main St', 'city': 'New York', 'state': 'NY', 'zip': '10001'}, 'hobbies': ['reading', 'painting', 'hiking']}\n"
          ]
        }
      ]
    },
    {
      "cell_type": "code",
      "source": [
        "student={\n",
        "    'student1':{'name':'radha','age':12},\n",
        "    'student2':{'name':'deepika','age':40}\n",
        "}\n",
        "print(student)"
      ],
      "metadata": {
        "colab": {
          "base_uri": "https://localhost:8080/"
        },
        "id": "iMSNtPqzAAds",
        "outputId": "38848b84-ee2e-410d-dc47-cc7b296d04ba"
      },
      "execution_count": 51,
      "outputs": [
        {
          "output_type": "stream",
          "name": "stdout",
          "text": [
            "{'student1': {'name': 'radha', 'age': 12}, 'student2': {'name': 'deepika', 'age': 40}}\n"
          ]
        }
      ]
    },
    {
      "cell_type": "code",
      "source": [
        "student['student1']['name']"
      ],
      "metadata": {
        "colab": {
          "base_uri": "https://localhost:8080/",
          "height": 35
        },
        "id": "2i1l9oJsAFru",
        "outputId": "80bbcb8c-9e9a-4504-8076-c04ae671b000"
      },
      "execution_count": 52,
      "outputs": [
        {
          "output_type": "execute_result",
          "data": {
            "text/plain": [
              "'radha'"
            ],
            "application/vnd.google.colaboratory.intrinsic+json": {
              "type": "string"
            }
          },
          "metadata": {},
          "execution_count": 52
        }
      ]
    },
    {
      "cell_type": "code",
      "source": [
        "student['student2']['name']"
      ],
      "metadata": {
        "colab": {
          "base_uri": "https://localhost:8080/",
          "height": 35
        },
        "id": "QjxLOQWAALUy",
        "outputId": "ba3ade48-da5d-49b4-f7be-851105da20c8"
      },
      "execution_count": 53,
      "outputs": [
        {
          "output_type": "execute_result",
          "data": {
            "text/plain": [
              "'deepika'"
            ],
            "application/vnd.google.colaboratory.intrinsic+json": {
              "type": "string"
            }
          },
          "metadata": {},
          "execution_count": 53
        }
      ]
    },
    {
      "cell_type": "code",
      "source": [
        "# Unpacking Dictionary Keys\n",
        "person = {'name': 'Radha', 'age': 30, 'city': 'Aurangabad','state':'Maharashtra'}\n",
        "keys = person.keys()\n",
        "a, *b, c= keys\n",
        "print(a)\n",
        "print(b)\n",
        "print(c)"
      ],
      "metadata": {
        "colab": {
          "base_uri": "https://localhost:8080/"
        },
        "id": "TbBqXKY9AZIL",
        "outputId": "ff83cc92-5a66-43c4-dc97-a22f9be699af"
      },
      "execution_count": 54,
      "outputs": [
        {
          "output_type": "stream",
          "name": "stdout",
          "text": [
            "name\n",
            "['age', 'city']\n",
            "state\n"
          ]
        }
      ]
    },
    {
      "cell_type": "code",
      "source": [
        "#  Unpacking Dictionary Items\n",
        "items = person.items()\n",
        "(a_key, a_value), *(b_key, b_value), (c_key, c_value) = items\n",
        "print(a_key, a_value)\n",
        "print(b_key, b_value)\n",
        "print(c_key, c_value)"
      ],
      "metadata": {
        "colab": {
          "base_uri": "https://localhost:8080/"
        },
        "id": "HKt_H4i_Af4t",
        "outputId": "f6c5e328-5756-437d-bda7-be9f50945233"
      },
      "execution_count": 55,
      "outputs": [
        {
          "output_type": "stream",
          "name": "stdout",
          "text": [
            "name Radha\n",
            "('age', 30) ('city', 'Aurangabad')\n",
            "state Maharashtra\n"
          ]
        }
      ]
    }
  ]
}