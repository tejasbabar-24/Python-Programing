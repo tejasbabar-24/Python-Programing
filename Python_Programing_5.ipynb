{
  "nbformat": 4,
  "nbformat_minor": 0,
  "metadata": {
    "colab": {
      "provenance": [],
      "authorship_tag": "ABX9TyPOd8OVVZty/ABTQ0/LmR+J",
      "include_colab_link": true
    },
    "kernelspec": {
      "name": "python3",
      "display_name": "Python 3"
    },
    "language_info": {
      "name": "python"
    }
  },
  "cells": [
    {
      "cell_type": "markdown",
      "metadata": {
        "id": "view-in-github",
        "colab_type": "text"
      },
      "source": [
        "<a href=\"https://colab.research.google.com/github/tejasbabar-24/Python-Programing/blob/main/Python_Programing_5.ipynb\" target=\"_parent\"><img src=\"https://colab.research.google.com/assets/colab-badge.svg\" alt=\"Open In Colab\"/></a>"
      ]
    },
    {
      "cell_type": "markdown",
      "source": [
        "**List**"
      ],
      "metadata": {
        "id": "DcYvplL_pHRs"
      }
    },
    {
      "cell_type": "code",
      "execution_count": 2,
      "metadata": {
        "colab": {
          "base_uri": "https://localhost:8080/"
        },
        "id": "slI6xxXforfS",
        "outputId": "d0d01684-4e33-40c3-eb66-ad488f59ceb8"
      },
      "outputs": [
        {
          "output_type": "stream",
          "name": "stdout",
          "text": [
            "[1, 't', [5, 3], 'number']\n"
          ]
        }
      ],
      "source": [
        "new = [1,'t',[5,3],'number']\n",
        "print(new)"
      ]
    },
    {
      "cell_type": "code",
      "source": [
        "#A list in Python is a Collection of  items which can be different data types. list are writeen in [] square brackets\n",
        "list_1 = ['Mercedez','tata','kia','breeza','citron']\n",
        "print(list_1)\n",
        "list_1[2]"
      ],
      "metadata": {
        "colab": {
          "base_uri": "https://localhost:8080/",
          "height": 55
        },
        "id": "Sw3eovmepdzb",
        "outputId": "e58dbb37-cd85-4e34-f4b9-ab6a300dbbdb"
      },
      "execution_count": 5,
      "outputs": [
        {
          "output_type": "stream",
          "name": "stdout",
          "text": [
            "['Mercedez', 'tata', 'kia', 'breeza']\n"
          ]
        },
        {
          "output_type": "execute_result",
          "data": {
            "text/plain": [
              "'kia'"
            ],
            "application/vnd.google.colaboratory.intrinsic+json": {
              "type": "string"
            }
          },
          "metadata": {},
          "execution_count": 5
        }
      ]
    },
    {
      "cell_type": "code",
      "source": [
        "#Slicing\n",
        "list_1[0:2]\n"
      ],
      "metadata": {
        "colab": {
          "base_uri": "https://localhost:8080/"
        },
        "id": "trDokVhuqctx",
        "outputId": "9779fb08-d22f-4d51-80ec-5fadb5af4dfd"
      },
      "execution_count": 14,
      "outputs": [
        {
          "output_type": "execute_result",
          "data": {
            "text/plain": [
              "['Mercedez', 'tata']"
            ]
          },
          "metadata": {},
          "execution_count": 14
        }
      ]
    },
    {
      "cell_type": "code",
      "source": [
        "l = ['a','b','c','d','e','f']\n",
        "print(l)\n",
        "l[1:6]"
      ],
      "metadata": {
        "colab": {
          "base_uri": "https://localhost:8080/"
        },
        "id": "Y91fIRr4q8IH",
        "outputId": "c25d0829-84c0-42a3-98f9-f2af515a7bc7"
      },
      "execution_count": 15,
      "outputs": [
        {
          "output_type": "stream",
          "name": "stdout",
          "text": [
            "['a', 'b', 'c', 'd', 'e', 'f']\n"
          ]
        },
        {
          "output_type": "execute_result",
          "data": {
            "text/plain": [
              "['b', 'c', 'd', 'e', 'f']"
            ]
          },
          "metadata": {},
          "execution_count": 15
        }
      ]
    },
    {
      "cell_type": "code",
      "source": [
        "l[::2]"
      ],
      "metadata": {
        "colab": {
          "base_uri": "https://localhost:8080/"
        },
        "id": "so4H3j7NsOgu",
        "outputId": "ffae3fb8-0fa1-4941-810f-e278bbfbb8f2"
      },
      "execution_count": 17,
      "outputs": [
        {
          "output_type": "execute_result",
          "data": {
            "text/plain": [
              "['a', 'c', 'e']"
            ]
          },
          "metadata": {},
          "execution_count": 17
        }
      ]
    },
    {
      "cell_type": "code",
      "source": [
        "#[start:end:step]\n",
        "\n",
        "l[::-1]"
      ],
      "metadata": {
        "colab": {
          "base_uri": "https://localhost:8080/"
        },
        "id": "Q2wVfJNGr3nf",
        "outputId": "d61469b6-7279-44ef-a866-4fd15f986a2b"
      },
      "execution_count": 16,
      "outputs": [
        {
          "output_type": "execute_result",
          "data": {
            "text/plain": [
              "['f', 'e', 'd', 'c', 'b', 'a']"
            ]
          },
          "metadata": {},
          "execution_count": 16
        }
      ]
    },
    {
      "cell_type": "code",
      "source": [
        "list_3=[['a','b','c'],'k',['d','e']]\n",
        "print(list_3[1])\n",
        "print(list_3[2][0])\n",
        "print(list_3[1:])\n",
        "print(list_3[-1][-2])"
      ],
      "metadata": {
        "colab": {
          "base_uri": "https://localhost:8080/"
        },
        "id": "NArnJkwWswWE",
        "outputId": "fe530d5a-a61d-4e49-8242-dead62980966"
      },
      "execution_count": 29,
      "outputs": [
        {
          "output_type": "stream",
          "name": "stdout",
          "text": [
            "k\n",
            "d\n",
            "['k', ['d', 'e']]\n",
            "d\n"
          ]
        }
      ]
    },
    {
      "cell_type": "code",
      "source": [
        "list_3.append('g')\n",
        "list_3.append('h')\n",
        "list_3.pop()\n",
        "print(list_3)"
      ],
      "metadata": {
        "colab": {
          "base_uri": "https://localhost:8080/"
        },
        "id": "1m1r9Xc6u1uR",
        "outputId": "31e45230-0efa-4ecf-f109-8a73b3f52c42"
      },
      "execution_count": 41,
      "outputs": [
        {
          "output_type": "stream",
          "name": "stdout",
          "text": [
            "[['a', 'b', 'c'], 'k', 'g']\n"
          ]
        }
      ]
    },
    {
      "cell_type": "code",
      "source": [
        "fruits = ['apple', 'banana', 'cherry']\n",
        "\n",
        "cars = ['Ford', 'BMW', 'Volvo']\n",
        "\n",
        "fruits.extend(cars)\n",
        "\n",
        "print(fruits)\n"
      ],
      "metadata": {
        "colab": {
          "base_uri": "https://localhost:8080/"
        },
        "id": "nLfc9MxHwFD6",
        "outputId": "01af81cd-1aa7-4bf9-fe8f-beb25b93be78"
      },
      "execution_count": 42,
      "outputs": [
        {
          "output_type": "stream",
          "name": "stdout",
          "text": [
            "['apple', 'banana', 'cherry', 'Ford', 'BMW', 'Volvo']\n"
          ]
        }
      ]
    },
    {
      "cell_type": "markdown",
      "source": [
        "**Tuple**\n",
        "tuples are immutable ()"
      ],
      "metadata": {
        "id": "fZbE3eYEwxA9"
      }
    },
    {
      "cell_type": "code",
      "source": [
        "#creating tuple\n",
        "\n",
        "my_tuple = (1,2,3)\n",
        "print(my_tuple)"
      ],
      "metadata": {
        "colab": {
          "base_uri": "https://localhost:8080/"
        },
        "id": "KRtJN5iFxFl9",
        "outputId": "f5c423cd-c7f8-4fdc-9eec-5a6ed5680906"
      },
      "execution_count": 43,
      "outputs": [
        {
          "output_type": "stream",
          "name": "stdout",
          "text": [
            "(1, 2, 3)\n"
          ]
        }
      ]
    },
    {
      "cell_type": "code",
      "source": [
        "new_tuple=(1,)\n",
        "print(new_tuple)\n",
        "print(type(new_tuple))"
      ],
      "metadata": {
        "colab": {
          "base_uri": "https://localhost:8080/"
        },
        "id": "6IdpgILdxRoE",
        "outputId": "23e72823-2d23-422d-b6b0-7f7d52ea7100"
      },
      "execution_count": 44,
      "outputs": [
        {
          "output_type": "stream",
          "name": "stdout",
          "text": [
            "(1,)\n",
            "<class 'tuple'>\n"
          ]
        }
      ]
    },
    {
      "cell_type": "code",
      "source": [
        "#Dictonary\n",
        "student = {\n",
        "    'key': 'values',\n",
        "    'name': 'Radha',\n",
        "    'name': 'Radharani',\n",
        "    'age': 9,\n",
        "    'courses': ['Math', 'Science']\n",
        "}\n",
        "print(student)"
      ],
      "metadata": {
        "colab": {
          "base_uri": "https://localhost:8080/"
        },
        "id": "zx3szPeYz6G8",
        "outputId": "ead06382-839d-4f22-ade3-f01ba6d15a5b"
      },
      "execution_count": 45,
      "outputs": [
        {
          "output_type": "stream",
          "name": "stdout",
          "text": [
            "{'key': 'values', 'name': 'Radharani', 'age': 9, 'courses': ['Math', 'Science']}\n"
          ]
        }
      ]
    }
  ]
}