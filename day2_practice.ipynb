{
  "nbformat": 4,
  "nbformat_minor": 0,
  "metadata": {
    "colab": {
      "provenance": [],
      "authorship_tag": "ABX9TyPrxBj6E0QAu1wii9kFFi6c",
      "include_colab_link": true
    },
    "kernelspec": {
      "name": "python3",
      "display_name": "Python 3"
    },
    "language_info": {
      "name": "python"
    }
  },
  "cells": [
    {
      "cell_type": "markdown",
      "metadata": {
        "id": "view-in-github",
        "colab_type": "text"
      },
      "source": [
        "<a href=\"https://colab.research.google.com/github/tejasbabar-24/Python-Programing/blob/main/day2_practice.ipynb\" target=\"_parent\"><img src=\"https://colab.research.google.com/assets/colab-badge.svg\" alt=\"Open In Colab\"/></a>"
      ]
    },
    {
      "cell_type": "markdown",
      "source": [
        "**Assisted Practice**"
      ],
      "metadata": {
        "id": "ejh8AsrWbz-d"
      }
    },
    {
      "cell_type": "code",
      "execution_count": null,
      "metadata": {
        "colab": {
          "base_uri": "https://localhost:8080/"
        },
        "id": "cZIjuy6LatrC",
        "outputId": "593e222e-28cc-48c6-dcb9-7eb227f2d185"
      },
      "outputs": [
        {
          "output_type": "stream",
          "name": "stdout",
          "text": [
            "***         ***      ******         ***** \n",
            " **   **     **   **    **    **     **      \n",
            "**     **   **     **   **     **   **       \n",
            "**     **   **     **   **    **     **      \n",
            "**     **   **     **   ******         ***   \n",
            "**     **   **     **   **                ** \n",
            "**     **   **     **   **                 **\n",
            " **   **     **   **    **                ** \n",
            "   ***         ***      **           *****\n"
          ]
        }
      ],
      "source": [
        "print(\"    ***  \",  '',   \"     ***  \" ,  ''  ,  \" ******  \", '',\"  *****\")\n",
        "print(\" **     ** \" ,'', \" **       **  \", '' ,  \"**     **\", '',\" **    \")\n",
        "print(\"**      ** \" ,'',\" **         **  \",  '', \"**      **\",'',\"**     \")\n",
        "print(\"**       ** \" ,'',\"**         **  \" , '', \"**     **\", '',\"  **   \")\n",
        "print(\"**       ** \" ,'',\"**         **  \" , '', \"*******  \", '',\"   ***  \")\n",
        "print(\"**       ** \" ,'',\"**         **  \" , '', \"**       \", '',\"      **  \")\n",
        "print(\"**       ** \" ,'',\"**         **  \" , '', \"**       \", '',\"       ** \")\n",
        "print(\" **     ** \" ,'',\"  **       **  \" ,' ', \"**        \", '',\"     **   \")\n",
        "print(\"    ***  \", '',   \"    ***  \" ,  '',     \"**        \", '',\"*****    \")\n",
        "\n",
        "\n",
        "\n"
      ]
    },
    {
      "cell_type": "code",
      "source": [
        "# PROG 2: Places to visit\n",
        "\n",
        "# Write The Code Here\n",
        "\n",
        "help(print)\n",
        "\n",
        "help(input)\n",
        "\n",
        "#step1 Take User Input For Name,Place and Year\n",
        "\n",
        "user_name = input('Enter the user name: ')\n",
        "first__place  = input('Enter the first place would you like to visit:')\n",
        "second__place  = input('Enter the second place would you like to visit:')\n",
        "third__place  = input('Enter the third place would you like to visit:')\n",
        "year = input('Enter the year to visit: ')\n",
        "\n",
        "#step2: Print the user and Places to visit for the year\n",
        "#using f-string, sep =',' and end = ''\n",
        "print(f\"\\nHello {user_name} and places to visit are {first__place}\",\n",
        "      second__place,third__place,sep=',', end ='')\n",
        "print(f\" in the year {year}\")\n"
      ],
      "metadata": {
        "colab": {
          "base_uri": "https://localhost:8080/"
        },
        "id": "BhtuMZq15Dsc",
        "outputId": "5ae38d5e-95cf-4e2b-c891-0778e11f4dba"
      },
      "execution_count": null,
      "outputs": [
        {
          "output_type": "stream",
          "name": "stdout",
          "text": [
            "Help on built-in function print in module builtins:\n",
            "\n",
            "print(...)\n",
            "    print(value, ..., sep=' ', end='\\n', file=sys.stdout, flush=False)\n",
            "    \n",
            "    Prints the values to a stream, or to sys.stdout by default.\n",
            "    Optional keyword arguments:\n",
            "    file:  a file-like object (stream); defaults to the current sys.stdout.\n",
            "    sep:   string inserted between values, default a space.\n",
            "    end:   string appended after the last value, default a newline.\n",
            "    flush: whether to forcibly flush the stream.\n",
            "\n",
            "Help on method raw_input in module ipykernel.kernelbase:\n",
            "\n",
            "raw_input(prompt='') method of google.colab._kernel.Kernel instance\n",
            "    Forward raw_input to frontends\n",
            "    \n",
            "    Raises\n",
            "    ------\n",
            "    StdinNotImplementedError if active frontend doesn't support stdin.\n",
            "\n",
            "Enter the user name: tejas\n",
            "Enter the first place would you like to visit:pune\n",
            "Enter the second place would you like to visit:mumbai\n",
            "Enter the third place would you like to visit:banglore\n",
            "Enter the year to visit: 2024\n",
            "\n",
            "Hello tejas and places to visit are pune,mumbai,banglore in the year 2024\n"
          ]
        }
      ]
    },
    {
      "cell_type": "markdown",
      "source": [
        "**Compute Circumfernce and area of Circlea**"
      ],
      "metadata": {
        "id": "3cQd19XO_fcI"
      }
    },
    {
      "cell_type": "code",
      "source": [
        "# PROG 3.1: Compute Circumference and Area of Circle\n",
        "\n",
        "# Write The Code Here\n",
        "\n",
        "#step1: Define Python Constant for PI\n",
        "\n",
        "PI = 22/7\n",
        "\n",
        "#step2: take input for radius of the circle in inches\n",
        "radius_inch = float(input('Enter the radius of the circle in inches: '))\n",
        "\n",
        "#step3: Convert from inche to cm by using 1 in = 2.54 cm\n",
        "radius_cm = radius_inch * 2.54\n",
        "\n",
        "#step4 :computer circumference and area in a centimetres and Square centimetres\n",
        "circumference_cm = 2 * PI *radius_cm\n",
        "area_square_cm =  PI * (radius_cm **2)\n",
        "\n",
        "#step 5: Print the result\n",
        "print(f\"\\ncircumference of the circle is {circumference_cm:.2f} cm and\",\n",
        "      f\"Area of Circle is {area_square_cm:.2f} sqcm\")"
      ],
      "metadata": {
        "colab": {
          "base_uri": "https://localhost:8080/"
        },
        "id": "0tiSQnN6_j7G",
        "outputId": "557dc9a4-020b-47f5-ea95-73576ab3e856"
      },
      "execution_count": null,
      "outputs": [
        {
          "output_type": "stream",
          "name": "stdout",
          "text": [
            "Enter the radius of the circle in inches: 7\n",
            "\n",
            "circumference of the circle is 111.76 cm and Area of Circle is 993.55 sqcm\n"
          ]
        }
      ]
    },
    {
      "cell_type": "code",
      "source": [
        "# PROG 4: Find Generation\n",
        "\n",
        "# Write The Code Here\n",
        "\n",
        "#step 1: Enter the birth year\n",
        "birth_year =int(input('Enter birth year: '))\n",
        "\n",
        "#step 2: Printing the generation using python Shorthand condition\n",
        "print(f\"\\nBirth Year is {birth_year}\",\n",
        "      f\"Isbabay Boomer : {birth_year >= 1946 and birth_year <1964}\",\n",
        "      f\"Is Gen X: {birth_year >=1965 and birth_year <1980}\",\n",
        "      f\"Is Millenial: {birth_year >= 1981 and birth_year <1996}\",\n",
        "      f\"Is Gen Z: {birth_year >= 1997 and birth_year <2012}\",\n",
        "      f\"Is Gen Alpha : {birth_year >= 2013 and birth_year<2025}\", sep = \"\\n\")"
      ],
      "metadata": {
        "colab": {
          "base_uri": "https://localhost:8080/"
        },
        "id": "0CGZLKlDEsJB",
        "outputId": "2fc68d55-210c-4690-ac48-cd1e664287b7"
      },
      "execution_count": null,
      "outputs": [
        {
          "output_type": "stream",
          "name": "stdout",
          "text": [
            "Enter birth year: 2012\n",
            "\n",
            "Birth Year is 2012\n",
            "Isbabay Boomer : False\n",
            "Is Gen X: False\n",
            "Is Millenial: False\n",
            "Is Gen Z: False\n",
            "Is Gen Alpha : False\n"
          ]
        }
      ]
    },
    {
      "cell_type": "code",
      "source": [
        "# PROG 5: Time Conversion\n",
        "\n",
        "# Write The Code Here\n",
        "#step 1: Take input for time duration in total_second\n",
        "total_second = int(input('Enter the time duration in second :'))\n",
        "\n",
        "#Step 2 : Convert seconds to hours, minutes, and second using\n",
        "#floor division and modulo operator\n",
        "\n",
        "#floor division operator // gives quoetient\n",
        "hours = total_second // 3600\n",
        "minutes = (total_second % 3600)\n",
        "seconds = total_second % 60\n",
        "\n",
        "#print the converted time duration\n",
        "\n",
        "print(f\"\\nTime duration of {total_second} second in MM:HH:SS format is \",\n",
        "      f\"{hours:02d}:{minutes:02d}:{seconds:02d}\")\n",
        "\n"
      ],
      "metadata": {
        "colab": {
          "base_uri": "https://localhost:8080/"
        },
        "id": "rLT4Yuvugr_T",
        "outputId": "8bd9a64e-a754-4c6a-85d0-84f263d7f6dc"
      },
      "execution_count": null,
      "outputs": [
        {
          "output_type": "stream",
          "name": "stdout",
          "text": [
            "Enter the time duration in second :3700\n",
            "\n",
            "Time duration of 3700 second in MM:HH:SS format is  01:100:40\n"
          ]
        }
      ]
    },
    {
      "cell_type": "markdown",
      "source": [
        "**Self Practice**"
      ],
      "metadata": {
        "id": "OUPyGwJ2b4yA"
      }
    }
  ]
}