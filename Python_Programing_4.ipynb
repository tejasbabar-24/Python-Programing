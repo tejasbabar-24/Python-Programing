{
  "nbformat": 4,
  "nbformat_minor": 0,
  "metadata": {
    "colab": {
      "provenance": [],
      "authorship_tag": "ABX9TyNsfr9oTJJQY5JFydGRpmsK",
      "include_colab_link": true
    },
    "kernelspec": {
      "name": "python3",
      "display_name": "Python 3"
    },
    "language_info": {
      "name": "python"
    }
  },
  "cells": [
    {
      "cell_type": "markdown",
      "metadata": {
        "id": "view-in-github",
        "colab_type": "text"
      },
      "source": [
        "<a href=\"https://colab.research.google.com/github/tejasbabar-24/Python-Programing/blob/main/Python_Programing_4.ipynb\" target=\"_parent\"><img src=\"https://colab.research.google.com/assets/colab-badge.svg\" alt=\"Open In Colab\"/></a>"
      ]
    },
    {
      "cell_type": "markdown",
      "source": [],
      "metadata": {
        "id": "KYySrofGiAeA"
      }
    },
    {
      "cell_type": "markdown",
      "source": [
        "**Dictionary Method**"
      ],
      "metadata": {
        "id": "rf-62K1liCFV"
      }
    },
    {
      "cell_type": "code",
      "source": [
        "student = {\n",
        "       'key':'Value',\n",
        "       'name':'Siya',\n",
        "       'name':'siya',\n",
        "       'age':12,\n",
        "       'course':['math','science']\n",
        "}\n",
        "\n",
        "print(student)"
      ],
      "metadata": {
        "colab": {
          "base_uri": "https://localhost:8080/"
        },
        "id": "tNS3VomiiHc8",
        "outputId": "9fb48c36-78b8-4b53-d885-b6ce9cfb329b"
      },
      "execution_count": 1,
      "outputs": [
        {
          "output_type": "stream",
          "name": "stdout",
          "text": [
            "{'key': 'Value', 'name': 'siya', 'age': 12, 'course': ['math', 'science']}\n"
          ]
        }
      ]
    },
    {
      "cell_type": "code",
      "source": [
        "#Keys() : Returns a View Object  that display list of all keys\n",
        "\n",
        "print(student.keys())"
      ],
      "metadata": {
        "colab": {
          "base_uri": "https://localhost:8080/"
        },
        "id": "fEqjhDZBix3N",
        "outputId": "c420c98e-ccb0-4069-93c4-0065a490a377"
      },
      "execution_count": 4,
      "outputs": [
        {
          "output_type": "stream",
          "name": "stdout",
          "text": [
            "dict_keys(['key', 'name', 'age', 'course'])\n"
          ]
        }
      ]
    },
    {
      "cell_type": "code",
      "source": [
        "#values() : Returns a view object that display a list of all the values\n",
        "student.values()"
      ],
      "metadata": {
        "colab": {
          "base_uri": "https://localhost:8080/"
        },
        "id": "Nt6rVvIxi9-T",
        "outputId": "7e542c2f-db0b-4f1d-b27e-4a1d7f17e402"
      },
      "execution_count": 3,
      "outputs": [
        {
          "output_type": "execute_result",
          "data": {
            "text/plain": [
              "dict_values(['Value', 'siya', 12, ['math', 'science']])"
            ]
          },
          "metadata": {},
          "execution_count": 3
        }
      ]
    },
    {
      "cell_type": "code",
      "source": [
        "# items() : Returns a view object that displays a list of key-value tuple pairs.\n",
        "\n",
        "print(student.items())"
      ],
      "metadata": {
        "colab": {
          "base_uri": "https://localhost:8080/"
        },
        "id": "SA1ZqZp4jmHi",
        "outputId": "a5b15784-a482-419f-8976-2869cbbcaa7e"
      },
      "execution_count": 5,
      "outputs": [
        {
          "output_type": "stream",
          "name": "stdout",
          "text": [
            "dict_items([('key', 'Value'), ('name', 'siya'), ('age', 12), ('course', ['math', 'science'])])\n"
          ]
        }
      ]
    },
    {
      "cell_type": "code",
      "source": [
        "#copy dictionary\n",
        "#we cannot copy a dictionary simply by typing dict2 = dict1\n",
        "#because dict will only a reference to dict1, and\n",
        "#change made in dict1 will automatically also be made in dict 2\n",
        "#there are ways to make a copy, one way is to use the built-in dictionary method copy()\n",
        "new_dict = student.copy()\n",
        "print(new_dict)\n",
        "#or\n",
        "#new_dict = dict(student)"
      ],
      "metadata": {
        "colab": {
          "base_uri": "https://localhost:8080/"
        },
        "id": "YRBM3ygDj-Va",
        "outputId": "00f3405a-3764-4a50-9d5c-a1ec2787d5f4"
      },
      "execution_count": 6,
      "outputs": [
        {
          "output_type": "stream",
          "name": "stdout",
          "text": [
            "{'key': 'Value', 'name': 'siya', 'age': 12, 'course': ['math', 'science']}\n"
          ]
        }
      ]
    },
    {
      "cell_type": "code",
      "source": [
        "new_dict = dict(student)\n",
        "print(new_dict)"
      ],
      "metadata": {
        "colab": {
          "base_uri": "https://localhost:8080/"
        },
        "id": "lgBhvLDulhO5",
        "outputId": "6e2dbad2-faa4-4cd0-9e18-65538373db69"
      },
      "execution_count": 7,
      "outputs": [
        {
          "output_type": "stream",
          "name": "stdout",
          "text": [
            "{'key': 'Value', 'name': 'siya', 'age': 12, 'course': ['math', 'science']}\n"
          ]
        }
      ]
    },
    {
      "cell_type": "code",
      "source": [
        "#combinin two dictionaries\n",
        "#Update(): Updates the dictionary with specified key-value Pairs\n",
        "\n",
        "student = {\n",
        "       'key':'Value',\n",
        "       'name':'Siya',\n",
        "       'name':'siya',\n",
        "       'age':12,\n",
        "       'course':['math','science']\n",
        "}\n",
        "student.update({'std':'5th','score':90})\n",
        "print(student)"
      ],
      "metadata": {
        "colab": {
          "base_uri": "https://localhost:8080/"
        },
        "id": "SmdnwOc2mBqa",
        "outputId": "709ed1e1-d692-4f78-f3de-a002e22478ed"
      },
      "execution_count": 8,
      "outputs": [
        {
          "output_type": "stream",
          "name": "stdout",
          "text": [
            "{'key': 'Value', 'name': 'siya', 'age': 12, 'course': ['math', 'science'], 'std': '5th', 'score': 90}\n"
          ]
        }
      ]
    },
    {
      "cell_type": "code",
      "source": [
        "#incase to combine two dictionry\n",
        "new_details ={\n",
        "    'techer name':'Patil',\n",
        "    'Mob_No':91123021\n",
        "}\n",
        "print(new_details)\n",
        "student.update(new_details)#combining two dictionary\n"
      ],
      "metadata": {
        "colab": {
          "base_uri": "https://localhost:8080/"
        },
        "id": "9wQhLdNXm6KT",
        "outputId": "f7ca108a-5759-4ff1-b08b-66ea8dd94ad7"
      },
      "execution_count": 12,
      "outputs": [
        {
          "output_type": "stream",
          "name": "stdout",
          "text": [
            "{'techer name': 'Patil', 'Mob_No': 91123021}\n"
          ]
        }
      ]
    },
    {
      "cell_type": "code",
      "source": [
        "print(student)"
      ],
      "metadata": {
        "colab": {
          "base_uri": "https://localhost:8080/"
        },
        "id": "0iDnV6QCnkfk",
        "outputId": "ca9649e6-bdc4-4d9d-feff-ba99ba75c7d6"
      },
      "execution_count": 13,
      "outputs": [
        {
          "output_type": "stream",
          "name": "stdout",
          "text": [
            "{'key': 'Value', 'name': 'siya', 'age': 12, 'course': ['math', 'science'], 'std': '5th', 'score': 90, 'techer name': 'Patil', 'Mob_No': 91123021}\n"
          ]
        }
      ]
    },
    {
      "cell_type": "code",
      "source": [
        "#creating dictionary from two list\n",
        "#the zip built in function allows us to consturct a dictionary from key and value lists\n",
        "l_1=['a','b','c','d']\n",
        "l_2=[1,2,3,4,]\n",
        "d_1 = dict(zip(l_1,l_2))\n",
        "print(d_1)"
      ],
      "metadata": {
        "colab": {
          "base_uri": "https://localhost:8080/"
        },
        "id": "9Hn2YuqMoQKK",
        "outputId": "da68cc59-2656-4941-b732-37b46da202d0"
      },
      "execution_count": 21,
      "outputs": [
        {
          "output_type": "stream",
          "name": "stdout",
          "text": [
            "{'a': 1, 'b': 2, 'c': 3, 'd': 4}\n"
          ]
        }
      ]
    }
  ]
}