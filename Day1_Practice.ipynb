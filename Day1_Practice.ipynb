{
  "nbformat": 4,
  "nbformat_minor": 0,
  "metadata": {
    "colab": {
      "provenance": [],
      "authorship_tag": "ABX9TyNI8dwCmxi4DyFmHut9VBF9"
    },
    "kernelspec": {
      "name": "python3",
      "display_name": "Python 3"
    },
    "language_info": {
      "name": "python"
    }
  },
  "cells": [
    {
      "cell_type": "markdown",
      "source": [
        "**Hello World Programe**"
      ],
      "metadata": {
        "id": "ngbRTRS99kUk"
      }
    },
    {
      "cell_type": "markdown",
      "source": [],
      "metadata": {
        "id": "nA5Tkpowdn4B"
      }
    },
    {
      "cell_type": "code",
      "source": [
        "print('Hello World !')"
      ],
      "metadata": {
        "colab": {
          "base_uri": "https://localhost:8080/"
        },
        "id": "1KV91G_29sLr",
        "outputId": "90369bce-01df-49e7-c201-d82bc1d5a67a"
      },
      "execution_count": null,
      "outputs": [
        {
          "output_type": "stream",
          "name": "stdout",
          "text": [
            "Hello World !\n"
          ]
        }
      ]
    },
    {
      "cell_type": "code",
      "source": [
        "help(print)"
      ],
      "metadata": {
        "colab": {
          "base_uri": "https://localhost:8080/"
        },
        "id": "hoKYdeD8al17",
        "outputId": "2c3e96c8-a6bf-4aa8-a3ee-5e92fc664c08"
      },
      "execution_count": null,
      "outputs": [
        {
          "output_type": "stream",
          "name": "stdout",
          "text": [
            "Help on built-in function print in module builtins:\n",
            "\n",
            "print(...)\n",
            "    print(value, ..., sep=' ', end='\\n', file=sys.stdout, flush=False)\n",
            "    \n",
            "    Prints the values to a stream, or to sys.stdout by default.\n",
            "    Optional keyword arguments:\n",
            "    file:  a file-like object (stream); defaults to the current sys.stdout.\n",
            "    sep:   string inserted between values, default a space.\n",
            "    end:   string appended after the last value, default a newline.\n",
            "    flush: whether to forcibly flush the stream.\n",
            "\n"
          ]
        }
      ]
    },
    {
      "cell_type": "markdown",
      "source": [
        "**SELF PRACTICE PROGRAMS**"
      ],
      "metadata": {
        "id": "HaMVKf_89taj"
      }
    },
    {
      "cell_type": "code",
      "source": [
        "name = input('enter name')\n",
        "\n",
        "print(' Hello '+ name)"
      ],
      "metadata": {
        "id": "3zDHWyXXB62U"
      },
      "execution_count": null,
      "outputs": []
    },
    {
      "cell_type": "code",
      "source": [
        "a = 15\n",
        "b = 20\n",
        "c = a + b\n",
        "print(\"the result of adding \", a ,\"and\", b ,\"is\", c)"
      ],
      "metadata": {
        "colab": {
          "base_uri": "https://localhost:8080/"
        },
        "id": "gZbXTJtak_Ap",
        "outputId": "4eb0c240-6b2c-48d1-f7d7-4c79721c0c36"
      },
      "execution_count": null,
      "outputs": [
        {
          "output_type": "stream",
          "name": "stdout",
          "text": [
            "the result of adding  15 and 20 is 35\n"
          ]
        }
      ]
    },
    {
      "cell_type": "code",
      "source": [
        "import threading\n",
        "\n",
        "print(f'Main or default thread Name is {str(threading.current_thread().name)}')\n",
        "\n",
        "x = 100\n",
        "y = 100\n",
        "z = x + y\n",
        "print(f\"The result of adding {x} and {y} is {z}\")"
      ],
      "metadata": {
        "colab": {
          "base_uri": "https://localhost:8080/"
        },
        "id": "U-DbVSltjFmp",
        "outputId": "7094abe1-0a9e-4e6e-e4cd-297bffe9c40c"
      },
      "execution_count": null,
      "outputs": [
        {
          "output_type": "stream",
          "name": "stdout",
          "text": [
            "Main or default thread Name is MainThread\n",
            "The result of adding 100 and 100 is 200\n"
          ]
        }
      ]
    },
    {
      "cell_type": "markdown",
      "source": [
        "**Adding two Numbers Measuring Time**"
      ],
      "metadata": {
        "id": "v23eGZUzmaxu"
      }
    },
    {
      "cell_type": "code",
      "source": [
        "import time\n",
        "\n",
        "x = 100\n",
        "y = 100\n",
        "z = x + y\n",
        "\n",
        "#setting the start time for print using variable\n",
        "start_time = time.time()\n",
        "print(\"The result of adding \",x,\"and \",y,\"is\", z)\n",
        "print(\"-----%s micro seconds\" % ((time.time() - start_time)*10**6))\n",
        "\n",
        "#setting the start time for print using string format\n",
        "start_time = time.time()\n",
        "print(f\"The Result of Adding{x} and {y} is {z}\")\n",
        "print(\"-----%s micro seconds\" % ((time.time() - start_time)*10**6))\n",
        "\n",
        "\n",
        "\n"
      ],
      "metadata": {
        "colab": {
          "base_uri": "https://localhost:8080/"
        },
        "id": "hGnhWkKgmY_X",
        "outputId": "1d66adb7-3c90-4e7a-b67b-c24423601918"
      },
      "execution_count": null,
      "outputs": [
        {
          "output_type": "stream",
          "name": "stdout",
          "text": [
            "The result of adding  100 and  100 is 200\n",
            "-----6346.225738525391 micro seconds\n",
            "The Result of Adding100 and 100 is 200\n",
            "-----1908.7791442871094 micro seconds\n"
          ]
        }
      ]
    },
    {
      "cell_type": "markdown",
      "source": [
        "**Descriptive Variable Name**"
      ],
      "metadata": {
        "id": "ZHa2E1tEqRWF"
      }
    },
    {
      "cell_type": "code",
      "source": [
        "#Descriptive Variable Name\n",
        "#BAD\n",
        "x = 10\n",
        "y = 20\n",
        "z = x +y\n",
        "print(f\"The Value of z is {z}\")\n",
        "\n",
        "\n",
        "# Good\n",
        "#1. Descriptive global variable name\n",
        "#2. Using Python String Format in Print\n",
        "\n",
        "total_sum = 10\n",
        "bonus_point = 20\n",
        "final_score = total_sum + bonus_point\n",
        "print(f\"Final Score is {final_score}\")"
      ],
      "metadata": {
        "colab": {
          "base_uri": "https://localhost:8080/"
        },
        "id": "wuMSxQh9qUdv",
        "outputId": "5ab5d7c2-6bd4-4c00-f53c-da1acc0b504c"
      },
      "execution_count": null,
      "outputs": [
        {
          "output_type": "stream",
          "name": "stdout",
          "text": [
            "The Value of z is 30\n",
            "Final Score is 30\n"
          ]
        }
      ]
    },
    {
      "cell_type": "markdown",
      "source": [
        "**Define Function** - Use function block for reuseable code like the add function defined here"
      ],
      "metadata": {
        "id": "pS_TPT1Mtx-m"
      }
    },
    {
      "cell_type": "code",
      "source": [
        "#Good\n",
        "#1. Define Function Block for Add\n",
        "#2. Descriptive Global Variable\n",
        "#3. Using Python String Format in Print\n",
        "\n",
        "def add(x,y):\n",
        "    return x +y\n"
      ],
      "metadata": {
        "id": "ODOHE0Hbtvza"
      },
      "execution_count": null,
      "outputs": []
    }
  ]
}